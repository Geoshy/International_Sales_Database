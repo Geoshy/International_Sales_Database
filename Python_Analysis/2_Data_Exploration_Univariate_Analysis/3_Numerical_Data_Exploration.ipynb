{
 "cells": [
  {
   "cell_type": "markdown",
   "metadata": {},
   "source": [
    "### **Quantitative (Numerical) Data Exploratory:**"
   ]
  },
  {
   "cell_type": "code",
   "execution_count": 1,
   "metadata": {},
   "outputs": [],
   "source": [
    "import pandas as pd\n",
    "import numpy as np\n",
    "import matplotlib.pyplot as plt\n",
    "import seaborn as sns\n",
    "import plotly.express as px\n",
    "import ast"
   ]
  },
  {
   "cell_type": "markdown",
   "metadata": {},
   "source": [
    "***Create Orders Dataframe Depending On Wrang User-Defiend Function***"
   ]
  },
  {
   "cell_type": "code",
   "execution_count": 2,
   "metadata": {},
   "outputs": [],
   "source": [
    "def wrang(\n",
    "    dataframe,\n",
    "    encoding = None,\n",
    "    dropnanvalues = None,\n",
    "    duplicatevlues = None,\n",
    "    datecolumn = None,\n",
    "    renamedcolumns = None  \n",
    "):\n",
    "    # Loading Data From CSV File:\n",
    "    df = pd.read_csv(dataframe, encoding= encoding)\n",
    "\n",
    "    # Drop Nan Value Of Specific Columns:\n",
    "    df.dropna(subset=dropnanvalues, inplace=True)\n",
    "\n",
    "    # Remove Duplicates From Specific Columns:\n",
    "    df.drop_duplicates(subset=duplicatevlues, inplace=True)\n",
    "\n",
    "    # Convert Date Column From Object to Datetime:\n",
    "    df[datecolumn] = pd.to_datetime(df[datecolumn])\n",
    "\n",
    "    # Rename Columns Names:\n",
    "    df.rename(columns= renamedcolumns, inplace=True)\n",
    "\n",
    "    # Stripe and Lowercase Columns Names:\n",
    "    df.columns = df.columns.str.strip().str.lower()\n",
    "\n",
    "    return(df)    "
   ]
  },
  {
   "cell_type": "code",
   "execution_count": 3,
   "metadata": {},
   "outputs": [
    {
     "data": {
      "text/html": [
       "<div>\n",
       "<style scoped>\n",
       "    .dataframe tbody tr th:only-of-type {\n",
       "        vertical-align: middle;\n",
       "    }\n",
       "\n",
       "    .dataframe tbody tr th {\n",
       "        vertical-align: top;\n",
       "    }\n",
       "\n",
       "    .dataframe thead th {\n",
       "        text-align: right;\n",
       "    }\n",
       "</style>\n",
       "<table border=\"1\" class=\"dataframe\">\n",
       "  <thead>\n",
       "    <tr style=\"text-align: right;\">\n",
       "      <th></th>\n",
       "      <th>customerid</th>\n",
       "      <th>firstname</th>\n",
       "      <th>lastname</th>\n",
       "      <th>city</th>\n",
       "      <th>country</th>\n",
       "      <th>phone</th>\n",
       "      <th>orderid</th>\n",
       "      <th>orderdate</th>\n",
       "      <th>ordernumber</th>\n",
       "      <th>totalamount</th>\n",
       "      <th>...</th>\n",
       "      <th>unitprice</th>\n",
       "      <th>package</th>\n",
       "      <th>isdiscontinued</th>\n",
       "      <th>supplierid</th>\n",
       "      <th>companyname</th>\n",
       "      <th>contactname</th>\n",
       "      <th>suppliercity</th>\n",
       "      <th>suppliercountry</th>\n",
       "      <th>supplierphone</th>\n",
       "      <th>fax</th>\n",
       "    </tr>\n",
       "  </thead>\n",
       "  <tbody>\n",
       "    <tr>\n",
       "      <th>0</th>\n",
       "      <td>1.0</td>\n",
       "      <td>Maria</td>\n",
       "      <td>Anders</td>\n",
       "      <td>Berlin</td>\n",
       "      <td>Germany</td>\n",
       "      <td>030-0074321</td>\n",
       "      <td>396.0</td>\n",
       "      <td>2013-08-25</td>\n",
       "      <td>542773.0</td>\n",
       "      <td>1086.00</td>\n",
       "      <td>...</td>\n",
       "      <td>45.60</td>\n",
       "      <td>25 - 825 g cans</td>\n",
       "      <td>True</td>\n",
       "      <td>12.0</td>\n",
       "      <td>Plutzer Lebensmittelgro?m?rkte AG</td>\n",
       "      <td>Martin Bein</td>\n",
       "      <td>Frankfurt</td>\n",
       "      <td>Germany</td>\n",
       "      <td>(069) 992755</td>\n",
       "      <td>NaN</td>\n",
       "    </tr>\n",
       "    <tr>\n",
       "      <th>3</th>\n",
       "      <td>1.0</td>\n",
       "      <td>Maria</td>\n",
       "      <td>Anders</td>\n",
       "      <td>Berlin</td>\n",
       "      <td>Germany</td>\n",
       "      <td>030-0074321</td>\n",
       "      <td>445.0</td>\n",
       "      <td>2013-10-03</td>\n",
       "      <td>542822.0</td>\n",
       "      <td>878.00</td>\n",
       "      <td>...</td>\n",
       "      <td>43.90</td>\n",
       "      <td>15 - 625 g jars</td>\n",
       "      <td>False</td>\n",
       "      <td>7.0</td>\n",
       "      <td>Pavlova, Ltd.</td>\n",
       "      <td>Ian Devling</td>\n",
       "      <td>Melbourne</td>\n",
       "      <td>Australia</td>\n",
       "      <td>(03) 444-2343</td>\n",
       "      <td>(03) 444-6588</td>\n",
       "    </tr>\n",
       "    <tr>\n",
       "      <th>4</th>\n",
       "      <td>1.0</td>\n",
       "      <td>Maria</td>\n",
       "      <td>Anders</td>\n",
       "      <td>Berlin</td>\n",
       "      <td>Germany</td>\n",
       "      <td>030-0074321</td>\n",
       "      <td>455.0</td>\n",
       "      <td>2013-10-13</td>\n",
       "      <td>542832.0</td>\n",
       "      <td>330.00</td>\n",
       "      <td>...</td>\n",
       "      <td>10.00</td>\n",
       "      <td>12 - 550 ml bottles</td>\n",
       "      <td>False</td>\n",
       "      <td>1.0</td>\n",
       "      <td>Exotic Liquids</td>\n",
       "      <td>Charlotte Cooper</td>\n",
       "      <td>London</td>\n",
       "      <td>UK</td>\n",
       "      <td>(171) 555-2222</td>\n",
       "      <td>NaN</td>\n",
       "    </tr>\n",
       "    <tr>\n",
       "      <th>6</th>\n",
       "      <td>1.0</td>\n",
       "      <td>Maria</td>\n",
       "      <td>Anders</td>\n",
       "      <td>Berlin</td>\n",
       "      <td>Germany</td>\n",
       "      <td>030-0074321</td>\n",
       "      <td>764.0</td>\n",
       "      <td>2014-04-09</td>\n",
       "      <td>543141.0</td>\n",
       "      <td>960.00</td>\n",
       "      <td>...</td>\n",
       "      <td>13.25</td>\n",
       "      <td>24 pieces</td>\n",
       "      <td>False</td>\n",
       "      <td>27.0</td>\n",
       "      <td>Escargots Nouveaux</td>\n",
       "      <td>Marie Delamare</td>\n",
       "      <td>Montceau</td>\n",
       "      <td>France</td>\n",
       "      <td>85.57.00.07</td>\n",
       "      <td>NaN</td>\n",
       "    </tr>\n",
       "    <tr>\n",
       "      <th>8</th>\n",
       "      <td>1.0</td>\n",
       "      <td>Maria</td>\n",
       "      <td>Anders</td>\n",
       "      <td>Berlin</td>\n",
       "      <td>Germany</td>\n",
       "      <td>030-0074321</td>\n",
       "      <td>588.0</td>\n",
       "      <td>2014-01-15</td>\n",
       "      <td>542965.0</td>\n",
       "      <td>851.00</td>\n",
       "      <td>...</td>\n",
       "      <td>55.00</td>\n",
       "      <td>5 kg pkg.</td>\n",
       "      <td>False</td>\n",
       "      <td>28.0</td>\n",
       "      <td>Gai pâturage</td>\n",
       "      <td>Eliane Noz</td>\n",
       "      <td>Annecy</td>\n",
       "      <td>France</td>\n",
       "      <td>38.76.98.06</td>\n",
       "      <td>38.76.98.58</td>\n",
       "    </tr>\n",
       "    <tr>\n",
       "      <th>...</th>\n",
       "      <td>...</td>\n",
       "      <td>...</td>\n",
       "      <td>...</td>\n",
       "      <td>...</td>\n",
       "      <td>...</td>\n",
       "      <td>...</td>\n",
       "      <td>...</td>\n",
       "      <td>...</td>\n",
       "      <td>...</td>\n",
       "      <td>...</td>\n",
       "      <td>...</td>\n",
       "      <td>...</td>\n",
       "      <td>...</td>\n",
       "      <td>...</td>\n",
       "      <td>...</td>\n",
       "      <td>...</td>\n",
       "      <td>...</td>\n",
       "      <td>...</td>\n",
       "      <td>...</td>\n",
       "      <td>...</td>\n",
       "      <td>...</td>\n",
       "    </tr>\n",
       "    <tr>\n",
       "      <th>2146</th>\n",
       "      <td>91.0</td>\n",
       "      <td>Zbyszek</td>\n",
       "      <td>Piestrzeniewicz</td>\n",
       "      <td>Warszawa</td>\n",
       "      <td>Poland</td>\n",
       "      <td>(26) 642-7012</td>\n",
       "      <td>545.0</td>\n",
       "      <td>2013-12-23</td>\n",
       "      <td>542922.0</td>\n",
       "      <td>399.85</td>\n",
       "      <td>...</td>\n",
       "      <td>19.00</td>\n",
       "      <td>24 - 12 oz bottles</td>\n",
       "      <td>False</td>\n",
       "      <td>1.0</td>\n",
       "      <td>Exotic Liquids</td>\n",
       "      <td>Charlotte Cooper</td>\n",
       "      <td>London</td>\n",
       "      <td>UK</td>\n",
       "      <td>(171) 555-2222</td>\n",
       "      <td>NaN</td>\n",
       "    </tr>\n",
       "    <tr>\n",
       "      <th>2149</th>\n",
       "      <td>91.0</td>\n",
       "      <td>Zbyszek</td>\n",
       "      <td>Piestrzeniewicz</td>\n",
       "      <td>Warszawa</td>\n",
       "      <td>Poland</td>\n",
       "      <td>(26) 642-7012</td>\n",
       "      <td>623.0</td>\n",
       "      <td>2014-02-04</td>\n",
       "      <td>543000.0</td>\n",
       "      <td>160.00</td>\n",
       "      <td>...</td>\n",
       "      <td>18.00</td>\n",
       "      <td>24 - 12 oz bottles</td>\n",
       "      <td>False</td>\n",
       "      <td>16.0</td>\n",
       "      <td>Bigfoot Breweries</td>\n",
       "      <td>Cheryl Saylor</td>\n",
       "      <td>Bend</td>\n",
       "      <td>USA</td>\n",
       "      <td>(503) 555-9931</td>\n",
       "      <td>NaN</td>\n",
       "    </tr>\n",
       "    <tr>\n",
       "      <th>2151</th>\n",
       "      <td>91.0</td>\n",
       "      <td>Zbyszek</td>\n",
       "      <td>Piestrzeniewicz</td>\n",
       "      <td>Warszawa</td>\n",
       "      <td>Poland</td>\n",
       "      <td>(26) 642-7012</td>\n",
       "      <td>659.0</td>\n",
       "      <td>2014-02-25</td>\n",
       "      <td>543036.0</td>\n",
       "      <td>427.50</td>\n",
       "      <td>...</td>\n",
       "      <td>28.50</td>\n",
       "      <td>24 - 500 ml bottles</td>\n",
       "      <td>False</td>\n",
       "      <td>29.0</td>\n",
       "      <td>Forêts d'érables</td>\n",
       "      <td>Chantal Goulet</td>\n",
       "      <td>Ste-Hyacinthe</td>\n",
       "      <td>Canada</td>\n",
       "      <td>(514) 555-2955</td>\n",
       "      <td>(514) 555-2921</td>\n",
       "    </tr>\n",
       "    <tr>\n",
       "      <th>2152</th>\n",
       "      <td>91.0</td>\n",
       "      <td>Zbyszek</td>\n",
       "      <td>Piestrzeniewicz</td>\n",
       "      <td>Warszawa</td>\n",
       "      <td>Poland</td>\n",
       "      <td>(26) 642-7012</td>\n",
       "      <td>751.0</td>\n",
       "      <td>2014-04-03</td>\n",
       "      <td>543128.0</td>\n",
       "      <td>686.00</td>\n",
       "      <td>...</td>\n",
       "      <td>4.50</td>\n",
       "      <td>12 - 355 ml cans</td>\n",
       "      <td>True</td>\n",
       "      <td>10.0</td>\n",
       "      <td>Refrescos Americanas LTDA</td>\n",
       "      <td>Carlos Diaz</td>\n",
       "      <td>Sao Paulo</td>\n",
       "      <td>Brazil</td>\n",
       "      <td>(11) 555 4640</td>\n",
       "      <td>NaN</td>\n",
       "    </tr>\n",
       "    <tr>\n",
       "      <th>2156</th>\n",
       "      <td>91.0</td>\n",
       "      <td>Zbyszek</td>\n",
       "      <td>Piestrzeniewicz</td>\n",
       "      <td>Warszawa</td>\n",
       "      <td>Poland</td>\n",
       "      <td>(26) 642-7012</td>\n",
       "      <td>797.0</td>\n",
       "      <td>2014-04-23</td>\n",
       "      <td>543174.0</td>\n",
       "      <td>591.60</td>\n",
       "      <td>...</td>\n",
       "      <td>49.30</td>\n",
       "      <td>48 pies</td>\n",
       "      <td>False</td>\n",
       "      <td>29.0</td>\n",
       "      <td>Forêts d'érables</td>\n",
       "      <td>Chantal Goulet</td>\n",
       "      <td>Ste-Hyacinthe</td>\n",
       "      <td>Canada</td>\n",
       "      <td>(514) 555-2955</td>\n",
       "      <td>(514) 555-2921</td>\n",
       "    </tr>\n",
       "  </tbody>\n",
       "</table>\n",
       "<p>830 rows × 22 columns</p>\n",
       "</div>"
      ],
      "text/plain": [
       "      customerid firstname         lastname      city  country          phone  \\\n",
       "0            1.0     Maria           Anders    Berlin  Germany    030-0074321   \n",
       "3            1.0     Maria           Anders    Berlin  Germany    030-0074321   \n",
       "4            1.0     Maria           Anders    Berlin  Germany    030-0074321   \n",
       "6            1.0     Maria           Anders    Berlin  Germany    030-0074321   \n",
       "8            1.0     Maria           Anders    Berlin  Germany    030-0074321   \n",
       "...          ...       ...              ...       ...      ...            ...   \n",
       "2146        91.0   Zbyszek  Piestrzeniewicz  Warszawa   Poland  (26) 642-7012   \n",
       "2149        91.0   Zbyszek  Piestrzeniewicz  Warszawa   Poland  (26) 642-7012   \n",
       "2151        91.0   Zbyszek  Piestrzeniewicz  Warszawa   Poland  (26) 642-7012   \n",
       "2152        91.0   Zbyszek  Piestrzeniewicz  Warszawa   Poland  (26) 642-7012   \n",
       "2156        91.0   Zbyszek  Piestrzeniewicz  Warszawa   Poland  (26) 642-7012   \n",
       "\n",
       "      orderid  orderdate  ordernumber  totalamount  ...  unitprice  \\\n",
       "0       396.0 2013-08-25     542773.0      1086.00  ...      45.60   \n",
       "3       445.0 2013-10-03     542822.0       878.00  ...      43.90   \n",
       "4       455.0 2013-10-13     542832.0       330.00  ...      10.00   \n",
       "6       764.0 2014-04-09     543141.0       960.00  ...      13.25   \n",
       "8       588.0 2014-01-15     542965.0       851.00  ...      55.00   \n",
       "...       ...        ...          ...          ...  ...        ...   \n",
       "2146    545.0 2013-12-23     542922.0       399.85  ...      19.00   \n",
       "2149    623.0 2014-02-04     543000.0       160.00  ...      18.00   \n",
       "2151    659.0 2014-02-25     543036.0       427.50  ...      28.50   \n",
       "2152    751.0 2014-04-03     543128.0       686.00  ...       4.50   \n",
       "2156    797.0 2014-04-23     543174.0       591.60  ...      49.30   \n",
       "\n",
       "                  package  isdiscontinued supplierid  \\\n",
       "0         25 - 825 g cans            True       12.0   \n",
       "3         15 - 625 g jars           False        7.0   \n",
       "4     12 - 550 ml bottles           False        1.0   \n",
       "6               24 pieces           False       27.0   \n",
       "8               5 kg pkg.           False       28.0   \n",
       "...                   ...             ...        ...   \n",
       "2146   24 - 12 oz bottles           False        1.0   \n",
       "2149   24 - 12 oz bottles           False       16.0   \n",
       "2151  24 - 500 ml bottles           False       29.0   \n",
       "2152     12 - 355 ml cans            True       10.0   \n",
       "2156              48 pies           False       29.0   \n",
       "\n",
       "                            companyname       contactname   suppliercity  \\\n",
       "0     Plutzer Lebensmittelgro?m?rkte AG       Martin Bein      Frankfurt   \n",
       "3                         Pavlova, Ltd.       Ian Devling      Melbourne   \n",
       "4                        Exotic Liquids  Charlotte Cooper         London   \n",
       "6                    Escargots Nouveaux    Marie Delamare       Montceau   \n",
       "8                          Gai pâturage        Eliane Noz         Annecy   \n",
       "...                                 ...               ...            ...   \n",
       "2146                     Exotic Liquids  Charlotte Cooper         London   \n",
       "2149                  Bigfoot Breweries     Cheryl Saylor           Bend   \n",
       "2151                   Forêts d'érables    Chantal Goulet  Ste-Hyacinthe   \n",
       "2152          Refrescos Americanas LTDA       Carlos Diaz      Sao Paulo   \n",
       "2156                   Forêts d'érables    Chantal Goulet  Ste-Hyacinthe   \n",
       "\n",
       "     suppliercountry   supplierphone             fax  \n",
       "0            Germany    (069) 992755             NaN  \n",
       "3          Australia   (03) 444-2343   (03) 444-6588  \n",
       "4                 UK  (171) 555-2222             NaN  \n",
       "6             France     85.57.00.07             NaN  \n",
       "8             France     38.76.98.06     38.76.98.58  \n",
       "...              ...             ...             ...  \n",
       "2146              UK  (171) 555-2222             NaN  \n",
       "2149             USA  (503) 555-9931             NaN  \n",
       "2151          Canada  (514) 555-2955  (514) 555-2921  \n",
       "2152          Brazil   (11) 555 4640             NaN  \n",
       "2156          Canada  (514) 555-2955  (514) 555-2921  \n",
       "\n",
       "[830 rows x 22 columns]"
      ]
     },
     "execution_count": 3,
     "metadata": {},
     "output_type": "execute_result"
    }
   ],
   "source": [
    "wrang(dataframe=\"D:\\\\IT Courses\\\\Data Analysis Courses\\\\Data Analysis Projects\\\\International Sales Company Project\\\\International_Sales_Database\\\\Python_Analysis\\\\1_Data_Cleaning\\\\Full_Join_Data.csv\",\n",
    "      encoding=\"ISO-8859-1\",\n",
    "      dropnanvalues=[\"OrderId\"],\n",
    "      duplicatevlues=\"OrderId\",\n",
    "      datecolumn=\"OrderDate\", \n",
    "      renamedcolumns={\"City.1\":\"SupplierCity\", \"Country.1\":\"SupplierCountry\", \"Phone.1\":\"SupplierPhone\"}\n",
    "      )"
   ]
  },
  {
   "cell_type": "code",
   "execution_count": 4,
   "metadata": {},
   "outputs": [],
   "source": [
    "orders = wrang(dataframe=\"D:\\\\IT Courses\\\\Data Analysis Courses\\\\Data Analysis Projects\\\\International Sales Company Project\\\\International_Sales_Database\\\\Python_Analysis\\\\1_Data_Cleaning\\\\Full_Join_Data.csv\",\n",
    "               encoding=\"latin-1\",\n",
    "               dropnanvalues=[\"OrderId\"],\n",
    "               duplicatevlues=\"OrderId\",\n",
    "               datecolumn=\"OrderDate\",\n",
    "               renamedcolumns={\"City.1\":\"SupplierCity\", \"Country.1\":\"SupplierCountry\", \"Phone.1\":\"SupplierPhone\"})"
   ]
  },
  {
   "cell_type": "code",
   "execution_count": 5,
   "metadata": {},
   "outputs": [],
   "source": [
    "columns_edit = [\"customerid\", \"orderid\", \"ordernumber\", \"productid\", \"supplierid\"]\n",
    "for column in list(orders.columns):\n",
    "    if column in columns_edit:\n",
    "        orders[column] = orders[column].astype(int)\n"
   ]
  },
  {
   "cell_type": "code",
   "execution_count": 6,
   "metadata": {},
   "outputs": [
    {
     "name": "stdout",
     "output_type": "stream",
     "text": [
      "<class 'pandas.core.frame.DataFrame'>\n",
      "Index: 830 entries, 0 to 2156\n",
      "Data columns (total 9 columns):\n",
      " #   Column       Non-Null Count  Dtype         \n",
      "---  ------       --------------  -----         \n",
      " 0   customerid   830 non-null    int64         \n",
      " 1   firstname    830 non-null    object        \n",
      " 2   lastname     830 non-null    object        \n",
      " 3   city         830 non-null    object        \n",
      " 4   country      830 non-null    object        \n",
      " 5   orderid      830 non-null    int64         \n",
      " 6   ordernumber  830 non-null    int64         \n",
      " 7   orderdate    830 non-null    datetime64[ns]\n",
      " 8   totalamount  830 non-null    float64       \n",
      "dtypes: datetime64[ns](1), float64(1), int64(3), object(4)\n",
      "memory usage: 64.8+ KB\n"
     ]
    }
   ],
   "source": [
    "orders = orders[[\"customerid\", \"firstname\", \"lastname\", \"city\", \"country\", \"orderid\", \"ordernumber\", \"orderdate\", \"totalamount\"]]\n",
    "orders.info()"
   ]
  },
  {
   "cell_type": "markdown",
   "metadata": {},
   "source": [
    "***Exploratory Data Analysis (EDA):***"
   ]
  },
  {
   "cell_type": "markdown",
   "metadata": {},
   "source": [
    "**1- Univariate Analysis Step:**"
   ]
  },
  {
   "cell_type": "markdown",
   "metadata": {},
   "source": [
    "**1.1.Analysis Quantitative Column In The Data (totalamount):**"
   ]
  },
  {
   "cell_type": "code",
   "execution_count": 7,
   "metadata": {},
   "outputs": [
    {
     "data": {
      "text/plain": [
       "count      830.000000\n",
       "mean      1631.877819\n",
       "std       1990.613963\n",
       "min         12.500000\n",
       "25%        480.000000\n",
       "50%       1015.900000\n",
       "75%       2028.650000\n",
       "max      17250.000000\n",
       "Name: totalamount, dtype: float64"
      ]
     },
     "execution_count": 7,
     "metadata": {},
     "output_type": "execute_result"
    }
   ],
   "source": [
    "orders[\"totalamount\"].describe()"
   ]
  },
  {
   "cell_type": "markdown",
   "metadata": {},
   "source": [
    "**Data Shape Using (Histogram):**"
   ]
  },
  {
   "cell_type": "markdown",
   "metadata": {},
   "source": [
    "**Histogram:**"
   ]
  },
  {
   "cell_type": "markdown",
   "metadata": {},
   "source": [
    "**1-Using Plot( ) Function of Pandas Library:**"
   ]
  },
  {
   "cell_type": "code",
   "execution_count": 8,
   "metadata": {},
   "outputs": [
    {
     "data": {
      "image/png": "[encoded data removed]",
      "text/plain": [
       "<Figure size 640x480 with 1 Axes>"
      ]
     },
     "metadata": {},
     "output_type": "display_data"
    }
   ],
   "source": [
    "fig, ax = plt.subplots()\n",
    "\n",
    "def moneyFormat(x, position):\n",
    "    return(f\"${int(x / 1000)}K\")\n",
    "\n",
    "orders[\"totalamount\"].plot(kind=\"hist\", bins=50, edgecolor='black')\n",
    "plt.title(\"Distribution of Total Amount of Invoices\")\n",
    "plt.xlabel(\"Total Amount\")\n",
    "plt.ylabel(\"Frequency\")\n",
    "plt.grid(True)\n",
    "plt.axvline(x=orders[\"totalamount\"].mean(), color=\"red\", linestyle=\"--\")\n",
    "plt.axvline(x=orders[\"totalamount\"].median(), color=\"orange\", linestyle=\"--\")\n",
    "\n",
    "ax = plt.gca()\n",
    "ax.xaxis.set_major_formatter(plt.FuncFormatter(moneyFormat))"
   ]
  },
  {
   "cell_type": "markdown",
   "metadata": {},
   "source": [
    "**2-Using Matplotlib Library:**"
   ]
  },
  {
   "cell_type": "code",
   "execution_count": 9,
   "metadata": {},
   "outputs": [
    {
     "data": {
      "image/png": "[encoded data removed]",
      "text/plain": [
       "<Figure size 640x480 with 1 Axes>"
      ]
     },
     "metadata": {},
     "output_type": "display_data"
    }
   ],
   "source": [
    "fig, ax = plt.subplots()\n",
    "\n",
    "def moneyFormat(x, position):\n",
    "    return(f\"${int(x / 1000)}K\")\n",
    "\n",
    "plt.hist(data=orders, x=\"totalamount\", bins=50, edgecolor=\"black\")\n",
    "plt.title(\"Distribution of Total Amount of Invoices\")\n",
    "plt.xlabel(\"Total Amount\")\n",
    "plt.ylabel(\"Frequency\")\n",
    "plt.grid(True)\n",
    "plt.axvline(x=orders[\"totalamount\"].mean(), color=\"red\", linestyle=\"--\")\n",
    "plt.axvline(x=orders[\"totalamount\"].median(), color=\"orange\", linestyle=\"--\")\n",
    "\n",
    "ax = plt.gca()\n",
    "ax.xaxis.set_major_formatter(plt.FuncFormatter(moneyFormat))"
   ]
  },
  {
   "cell_type": "markdown",
   "metadata": {},
   "source": [
    "**3-Using Seaborn Library:**"
   ]
  },
  {
   "cell_type": "code",
   "execution_count": 10,
   "metadata": {},
   "outputs": [
    {
     "data": {
      "image/png": "[encoded data removed]",
      "text/plain": [
       "<Figure size 640x480 with 1 Axes>"
      ]
     },
     "metadata": {},
     "output_type": "display_data"
    }
   ],
   "source": [
    "fig, ax = plt.subplots()\n",
    "\n",
    "def moneyFormat(x, position):\n",
    "    return(f\"${int(x / 1000)}K\")\n",
    "\n",
    "sns.histplot(data=orders, x=\"totalamount\", bins=50, kde=True, edgecolor=\"black\")\n",
    "plt.title(\"Distribution of Total Amount of Invoices\")\n",
    "plt.xlabel(\"Total Amount\")\n",
    "plt.ylabel(\"Frequency\")\n",
    "plt.grid(True)\n",
    "plt.axvline(x=orders[\"totalamount\"].mean(), color=\"red\", linestyle=\"--\")\n",
    "plt.axvline(x=orders[\"totalamount\"].median(), color=\"black\", linestyle=\"--\")\n",
    "\n",
    "ax = plt.gca()\n",
    "ax.xaxis.set_major_formatter(plt.FuncFormatter(moneyFormat))"
   ]
  },
  {
   "cell_type": "markdown",
   "metadata": {},
   "source": [
    "**Histogram Shape Analysis:**\n",
    "\n",
    "- First, the shape of the curve is (Right-Skewed) or (Positive-Skewed).\n",
    "\n",
    "- In this case, the mean is more than the median (mean > median).\n",
    "\n",
    "- We note that most of our data in the histogram is concentrated in the left side.\n",
    "\n",
    "- We note that the median (black line) is closer to most data on the left side.\n",
    "\n",
    "- Unlike mean which is closer to higher values data which is right skewed of the curve.\n",
    "\n",
    "- So, the median in this case is more accurate and can be used in measure of the center."
   ]
  },
  {
   "cell_type": "markdown",
   "metadata": {},
   "source": [
    "**Five Number Summary: (Min - Q1 - Median(Q2) - Q3 - Max) Using (Box Plot)**"
   ]
  },
  {
   "cell_type": "code",
   "execution_count": 11,
   "metadata": {},
   "outputs": [],
   "source": [
    "Min = orders[\"totalamount\"].min()\n",
    "Q1 = orders[\"totalamount\"].quantile(0.25)\n",
    "Q2 = orders[\"totalamount\"].median()\n",
    "Q3 = orders[\"totalamount\"].quantile(0.75)\n",
    "Max = orders[\"totalamount\"].max()"
   ]
  },
  {
   "cell_type": "code",
   "execution_count": 12,
   "metadata": {},
   "outputs": [],
   "source": [
    "IQR = Q3 - Q1\n",
    "lower_boundary = Q1 - (1.5 * IQR)\n",
    "upper_boundary = Q3 + (1.5 * IQR)"
   ]
  },
  {
   "cell_type": "code",
   "execution_count": 13,
   "metadata": {},
   "outputs": [
    {
     "name": "stdout",
     "output_type": "stream",
     "text": [
      "12.5 480.0 1015.9 2028.65 17250.0 1548.65 -1842.9750000000004 4351.625\n"
     ]
    }
   ],
   "source": [
    "print(\n",
    "    Min,\n",
    "    Q1,\n",
    "    Q2,\n",
    "    Q3,\n",
    "    Max,\n",
    "    IQR,\n",
    "    lower_boundary,\n",
    "    upper_boundary\n",
    ")"
   ]
  },
  {
   "cell_type": "markdown",
   "metadata": {},
   "source": [
    "**Box Plot:**"
   ]
  },
  {
   "cell_type": "markdown",
   "metadata": {},
   "source": [
    "**1- Using Seaborn Library:**"
   ]
  },
  {
   "cell_type": "code",
   "execution_count": 14,
   "metadata": {},
   "outputs": [
    {
     "data": {
      "image/png": "[encoded data removed]",
      "text/plain": [
       "<Figure size 640x480 with 1 Axes>"
      ]
     },
     "metadata": {},
     "output_type": "display_data"
    }
   ],
   "source": [
    "fig, ax = plt.subplots()\n",
    "\n",
    "def moneyFormat(x, position):\n",
    "    return(f\"${int(x / 1000)}K\")\n",
    "\n",
    "sns.boxplot(data=orders, x=\"totalamount\")\n",
    "plt.title(\"Distribution of Total Amount of Invoices\")\n",
    "plt.xlabel(\"Total Amount\")\n",
    "plt.ylabel(\"Frequency\")\n",
    "plt.grid(True)\n",
    "plt.axvline(x=orders[\"totalamount\"].mean(), color=\"red\", linestyle=\"--\")\n",
    "plt.axvline(x=orders[\"totalamount\"].median(), color=\"black\", linestyle=\"--\")\n",
    "\n",
    "ax = plt.gca()\n",
    "ax.xaxis.set_major_formatter(plt.FuncFormatter(moneyFormat))"
   ]
  },
  {
   "cell_type": "markdown",
   "metadata": {},
   "source": [
    "**2- Using Plotly Library:**"
   ]
  },
  {
   "cell_type": "code",
   "execution_count": 15,
   "metadata": {},
   "outputs": [
    {
     "data": {
      "application/vnd.plotly.v1+json": {
       "config": {
        "plotlyServerURL": "https://plot.ly"
       },
       "data": [
        {
         "alignmentgroup": "True",
         "hovertemplate": "totalamount=%{x}<extra></extra>",
         "legendgroup": "",
         "marker": {
          "color": "#636efa"
         },
         "name": "",
         "notched": false,
         "offsetgroup": "",
         "orientation": "h",
         "showlegend": false,
         "type": "box",
         "x": [
          1086,
          878,
          330,
          960,
          851,
          491.2,
          88.8,
          479.75,
          320,
          514.4,
          403.2,
          881.25,
          2156.5,
          2082,
          956.9,
          375.5,
          660,
          480,
          899,
          453,
          2142.9,
          1704,
          285,
          491.5,
          336,
          1477,
          191.1,
          282,
          390,
          4675,
          1488.8,
          613.2,
          2222.4,
          1031.7,
          174.9,
          3192.65,
          96.5,
          1254,
          2630.95,
          1461.6,
          729.5,
          2034.5,
          1565.65,
          1503.6,
          668.7,
          4210.5,
          630,
          1459,
          149,
          136.8,
          330,
          464,
          625,
          677,
          858,
          1176,
          1420,
          7390.2,
          450,
          660,
          730,
          547.8,
          2040,
          625,
          2210.8,
          1838.2,
          982,
          4035.8,
          280,
          88.5,
          2564.4,
          1549.6,
          1820.8,
          360,
          1057,
          360,
          2598,
          843,
          2083.4,
          917,
          1925.5,
          3000,
          846,
          2032,
          1296,
          509.75,
          1832.8,
          802,
          1208.5,
          2523,
          896,
          3118,
          1309.5,
          525,
          1930,
          1139.1,
          4422,
          717.5,
          1014,
          1170.3,
          479.4,
          1328,
          386.2,
          139.8,
          355.5,
          477,
          493,
          711,
          220,
          1500,
          225.5,
          12.5,
          477,
          150,
          644.8,
          305,
          100.8,
          625.2,
          1174,
          2356,
          1990,
          2311.7,
          1255.6,
          1286.8,
          1887,
          2169,
          216,
          108,
          405.75,
          912,
          631.6,
          156,
          931.5,
          447.2,
          86.4,
          420,
          1030.76,
          1692,
          86.85,
          268.8,
          424,
          63,
          860.1,
          950,
          3063,
          796.35,
          655,
          2772,
          1966.81,
          1090.5,
          3740,
          2018.6,
          2464.8,
          5677.6,
          1834.2,
          2900,
          2275.2,
          1408,
          4813.5,
          4931,
          4903.5,
          6750,
          5218,
          2216.25,
          6984.5,
          2499.25,
          4705.5,
          3490,
          6379.4,
          6300,
          6483.05,
          1921,
          3600.73,
          2540,
          344,
          2713.5,
          1005.9,
          5796,
          1792,
          8623.45,
          647.75,
          928,
          166,
          231.4,
          618,
          387.5,
          1820.2,
          287.8,
          1622.4,
          756,
          4985.5,
          616,
          3687,
          724.5,
          2262.5,
          103.2,
          360,
          234.8,
          2295.2,
          900,
          1015.8,
          93,
          2233,
          310,
          6527.25,
          2769,
          2844.5,
          2545,
          4337,
          875,
          250.8,
          1875,
          4031,
          2467,
          2300.8,
          1903.8,
          1560,
          1257.3,
          1438.25,
          1174.75,
          2974,
          1429.75,
          1203.5,
          2301.75,
          1423,
          1331.75,
          1926.06,
          920.1,
          519,
          1733.06,
          49.8,
          266,
          93.5,
          88,
          18.4,
          1030,
          1168,
          154,
          1848,
          305.3,
          1836,
          256.5,
          1515.75,
          68,
          136,
          338.2,
          155,
          70,
          137.5,
          1242,
          749,
          2775.05,
          702,
          60,
          2166.8,
          310,
          605,
          858,
          2362.25,
          1020,
          331.78,
          801.1,
          3424,
          1498.35,
          280,
          850,
          155,
          342,
          396.2,
          72,
          5032,
          1650,
          671.35,
          1327,
          8891,
          570,
          391.58,
          200,
          510,
          1101.2,
          387.5,
          1813,
          1444.8,
          2162.8,
          1535,
          1150,
          315,
          15810,
          1402,
          1665,
          1442.5,
          3127.5,
          932.05,
          742.5,
          559,
          1119.9,
          2333.2,
          182.4,
          1272,
          3163.2,
          575,
          519,
          934.5,
          1762.7,
          276.6,
          912,
          1727.5,
          880.5,
          2285,
          358,
          2054,
          378,
          2878.08,
          338,
          442,
          102.4,
          479.8,
          1701,
          3127,
          1762,
          2545.2,
          1708,
          1419.8,
          1748.5,
          1445.5,
          3370,
          1238.4,
          997,
          10835.24,
          8267.4,
          2248.2,
          2048.5,
          2614.5,
          3109,
          1928,
          703.25,
          6201.9,
          516.8,
          240.4,
          144,
          1080,
          446.6,
          1764,
          920.6,
          758.5,
          45,
          230.4,
          164.4,
          1497,
          656,
          1584,
          717.6,
          11490.7,
          1052.14,
          5502.11,
          2160,
          462,
          493.8,
          918,
          3463,
          1585,
          800,
          251.5,
          291.55,
          649,
          713.4,
          452,
          91.2,
          2123.2,
          480,
          414,
          936,
          45,
          2760.8,
          568.95,
          676,
          550.8,
          399,
          62,
          278,
          57.5,
          187,
          147,
          210,
          468,
          1452,
          1586,
          500,
          1873.5,
          3603.22,
          581,
          388.35,
          1152.5,
          543.65,
          2493,
          1380.6,
          2657.8,
          517.4,
          2085,
          317.75,
          1125.67,
          596,
          1450.6,
          1414.8,
          1050.6,
          1940,
          1360,
          112,
          2051.6,
          252.56,
          510,
          1412,
          1770,
          720,
          3107.5,
          144,
          1980,
          400,
          1760,
          2720.05,
          1073.9,
          1850,
          852,
          2584.5,
          264,
          1122.8,
          1902.1,
          270.2,
          3090,
          424,
          288,
          417.2,
          125,
          1295,
          98.4,
          36,
          1575,
          307.2,
          608,
          1675,
          235.2,
          1380.25,
          55.2,
          1650,
          833,
          750,
          110,
          946,
          1434,
          3304,
          2200,
          750.5,
          1500.7,
          295.38,
          2233.6,
          3463.2,
          420,
          11493.2,
          1078,
          147.9,
          638.5,
          711,
          2595,
          1140,
          4326,
          2697.5,
          1260,
          1200.8,
          2147.4,
          114,
          1335,
          245,
          352,
          252,
          45,
          319.2,
          110,
          30,
          781,
          2220,
          4157,
          934.5,
          1755,
          565.5,
          1682.5,
          1893,
          1660,
          2275.25,
          848,
          554.4,
          1746.2,
          1194,
          240,
          1819.5,
          1067.1,
          1768,
          2310,
          1007.7,
          1261,
          744,
          112,
          568.8,
          1249.1,
          816.3,
          1196,
          300,
          10741.6,
          1440,
          651,
          502.2,
          4180,
          800.1,
          1638.45,
          1912.85,
          735,
          3658.75,
          316.8,
          843.2,
          851.2,
          672,
          2633.9,
          448,
          552.8,
          959.2,
          1273.2,
          807.38,
          636,
          550,
          393.45,
          1353.6,
          12281.2,
          2018.2,
          925.1,
          2896.25,
          1291.6,
          1122,
          2384.8,
          595.5,
          1296.75,
          1913.85,
          2004.6,
          958.75,
          537.5,
          2142.4,
          2179.2,
          3016,
          182.4,
          2924.8,
          2273.6,
          3584,
          2870,
          560,
          6941.49,
          1684,
          770,
          4059,
          17250,
          1620,
          3642.5,
          3900,
          4668,
          10164.8,
          4825,
          972.5,
          4529.8,
          1814.8,
          4277.4,
          10588.5,
          1670,
          10191.7,
          4181.5,
          443.4,
          706,
          932,
          686.7,
          76,
          624.8,
          1456,
          1887.6,
          2327,
          2835,
          1731.2,
          1140,
          2984,
          11380,
          3772,
          1075,
          1374.6,
          3868.6,
          10495.6,
          1299,
          977.5,
          2388.5,
          629.5,
          89,
          192,
          537.6,
          543,
          28,
          645,
          508,
          193,
          1710,
          1852,
          698,
          560,
          924,
          349.5,
          914.4,
          1472,
          965,
          605,
          382.5,
          648,
          2740,
          2086,
          1838,
          2490.5,
          2208,
          586,
          1644.6,
          837,
          482.9,
          3592,
          1823.8,
          4666.94,
          1701.46,
          86.5,
          155.4,
          498.5,
          365.89,
          361,
          1058.4,
          200,
          500,
          2684.4,
          670,
          622.35,
          6155.9,
          3302.6,
          2736,
          5793.1,
          2096,
          4735.44,
          4722.3,
          4769,
          796.5,
          1809.75,
          1902,
          16321.9,
          2393.5,
          2196,
          3082,
          40,
          6164.9,
          988.4,
          2898,
          5256.5,
          2048,
          4451.7,
          2827.9,
          2941,
          1570,
          3680.5,
          1508,
          6475.4,
          6375,
          1264.5,
          4371.6,
          3654.4,
          1016,
          1274,
          1051.2,
          2715.9,
          1908,
          1632.15,
          2290.4,
          1630,
          412,
          11283.2,
          835.2,
          870,
          570,
          3923.75,
          244.3,
          52.35,
          108.5,
          2052.5,
          210,
          48,
          4819.4,
          141.6,
          2527.2,
          864,
          485,
          2487.5,
          678,
          439,
          3730,
          2708.8,
          3891,
          713.3,
          1770.8,
          28,
          4581,
          1112,
          1209,
          2455,
          1754.5,
          751,
          336,
          180.4,
          2775,
          69.6,
          1393.24,
          326,
          228,
          1863.4,
          567.5,
          273.6,
          275.1,
          1064,
          910.4,
          420,
          848.7,
          954.4,
          1191.2,
          360,
          975,
          539.5,
          4150.05,
          838.45,
          534.85,
          1296,
          200,
          1413,
          1974,
          1508.12,
          919.5,
          764.3,
          569,
          237.9,
          834.2,
          1765.6,
          2719,
          812.5,
          65,
          3490,
          920,
          1704,
          1936,
          1407.5,
          990,
          670.8,
          144.8,
          531.4,
          1688,
          496,
          2812,
          572.1,
          2070,
          212,
          740,
          440,
          538.6,
          121.6,
          139.8,
          240,
          755,
          1614.8,
          396,
          1106.4,
          2427.5,
          620,
          945,
          530.4,
          694.75,
          1564,
          364.8,
          1376,
          516,
          300,
          1871.25,
          1132.35,
          1344,
          1546.3,
          2413.9,
          629.5,
          954,
          372,
          720,
          393,
          2684,
          517.8,
          1897.6,
          142.5,
          1422,
          1255.8,
          140,
          45,
          360,
          700,
          676,
          2856,
          1125.5,
          704,
          1388.5,
          1476.1,
          8902.5,
          928.75,
          2334,
          996,
          468.45,
          1770,
          3523.4,
          1924.25,
          586,
          642,
          336.8,
          611.3,
          452.9,
          120,
          412.35,
          459,
          808,
          399.85,
          160,
          427.5,
          686,
          591.6
         ],
         "x0": " ",
         "xaxis": "x",
         "y0": " ",
         "yaxis": "y"
        }
       ],
       "layout": {
        "boxmode": "group",
        "legend": {
         "tracegroupgap": 0
        },
        "margin": {
         "t": 60
        },
        "template": {
         "data": {
          "bar": [
           {
            "error_x": {
             "color": "#2a3f5f"
            },
            "error_y": {
             "color": "#2a3f5f"
            },
            "marker": {
             "line": {
              "color": "#E5ECF6",
              "width": 0.5
             },
             "pattern": {
              "fillmode": "overlay",
              "size": 10,
              "solidity": 0.2
             }
            },
            "type": "bar"
           }
          ],
          "barpolar": [
           {
            "marker": {
             "line": {
              "color": "#E5ECF6",
              "width": 0.5
             },
             "pattern": {
              "fillmode": "overlay",
              "size": 10,
              "solidity": 0.2
             }
            },
            "type": "barpolar"
           }
          ],
          "carpet": [
           {
            "aaxis": {
             "endlinecolor": "#2a3f5f",
             "gridcolor": "white",
             "linecolor": "white",
             "minorgridcolor": "white",
             "startlinecolor": "#2a3f5f"
            },
            "baxis": {
             "endlinecolor": "#2a3f5f",
             "gridcolor": "white",
             "linecolor": "white",
             "minorgridcolor": "white",
             "startlinecolor": "#2a3f5f"
            },
            "type": "carpet"
           }
          ],
          "choropleth": [
           {
            "colorbar": {
             "outlinewidth": 0,
             "ticks": ""
            },
            "type": "choropleth"
           }
          ],
          "contour": [
           {
            "colorbar": {
             "outlinewidth": 0,
             "ticks": ""
            },
            "colorscale": [
             [
              0,
              "#0d0887"
             ],
             [
              0.1111111111111111,
              "#46039f"
             ],
             [
              0.2222222222222222,
              "#7201a8"
             ],
             [
              0.3333333333333333,
              "#9c179e"
             ],
             [
              0.4444444444444444,
              "#bd3786"
             ],
             [
              0.5555555555555556,
              "#d8576b"
             ],
             [
              0.6666666666666666,
              "#ed7953"
             ],
             [
              0.7777777777777778,
              "#fb9f3a"
             ],
             [
              0.8888888888888888,
              "#fdca26"
             ],
             [
              1,
              "#f0f921"
             ]
            ],
            "type": "contour"
           }
          ],
          "contourcarpet": [
           {
            "colorbar": {
             "outlinewidth": 0,
             "ticks": ""
            },
            "type": "contourcarpet"
           }
          ],
          "heatmap": [
           {
            "colorbar": {
             "outlinewidth": 0,
             "ticks": ""
            },
            "colorscale": [
             [
              0,
              "#0d0887"
             ],
             [
              0.1111111111111111,
              "#46039f"
             ],
             [
              0.2222222222222222,
              "#7201a8"
             ],
             [
              0.3333333333333333,
              "#9c179e"
             ],
             [
              0.4444444444444444,
              "#bd3786"
             ],
             [
              0.5555555555555556,
              "#d8576b"
             ],
             [
              0.6666666666666666,
              "#ed7953"
             ],
             [
              0.7777777777777778,
              "#fb9f3a"
             ],
             [
              0.8888888888888888,
              "#fdca26"
             ],
             [
              1,
              "#f0f921"
             ]
            ],
            "type": "heatmap"
           }
          ],
          "heatmapgl": [
           {
            "colorbar": {
             "outlinewidth": 0,
             "ticks": ""
            },
            "colorscale": [
             [
              0,
              "#0d0887"
             ],
             [
              0.1111111111111111,
              "#46039f"
             ],
             [
              0.2222222222222222,
              "#7201a8"
             ],
             [
              0.3333333333333333,
              "#9c179e"
             ],
             [
              0.4444444444444444,
              "#bd3786"
             ],
             [
              0.5555555555555556,
              "#d8576b"
             ],
             [
              0.6666666666666666,
              "#ed7953"
             ],
             [
              0.7777777777777778,
              "#fb9f3a"
             ],
             [
              0.8888888888888888,
              "#fdca26"
             ],
             [
              1,
              "#f0f921"
             ]
            ],
            "type": "heatmapgl"
           }
          ],
          "histogram": [
           {
            "marker": {
             "pattern": {
              "fillmode": "overlay",
              "size": 10,
              "solidity": 0.2
             }
            },
            "type": "histogram"
           }
          ],
          "histogram2d": [
           {
            "colorbar": {
             "outlinewidth": 0,
             "ticks": ""
            },
            "colorscale": [
             [
              0,
              "#0d0887"
             ],
             [
              0.1111111111111111,
              "#46039f"
             ],
             [
              0.2222222222222222,
              "#7201a8"
             ],
             [
              0.3333333333333333,
              "#9c179e"
             ],
             [
              0.4444444444444444,
              "#bd3786"
             ],
             [
              0.5555555555555556,
              "#d8576b"
             ],
             [
              0.6666666666666666,
              "#ed7953"
             ],
             [
              0.7777777777777778,
              "#fb9f3a"
             ],
             [
              0.8888888888888888,
              "#fdca26"
             ],
             [
              1,
              "#f0f921"
             ]
            ],
            "type": "histogram2d"
           }
          ],
          "histogram2dcontour": [
           {
            "colorbar": {
             "outlinewidth": 0,
             "ticks": ""
            },
            "colorscale": [
             [
              0,
              "#0d0887"
             ],
             [
              0.1111111111111111,
              "#46039f"
             ],
             [
              0.2222222222222222,
              "#7201a8"
             ],
             [
              0.3333333333333333,
              "#9c179e"
             ],
             [
              0.4444444444444444,
              "#bd3786"
             ],
             [
              0.5555555555555556,
              "#d8576b"
             ],
             [
              0.6666666666666666,
              "#ed7953"
             ],
             [
              0.7777777777777778,
              "#fb9f3a"
             ],
             [
              0.8888888888888888,
              "#fdca26"
             ],
             [
              1,
              "#f0f921"
             ]
            ],
            "type": "histogram2dcontour"
           }
          ],
          "mesh3d": [
           {
            "colorbar": {
             "outlinewidth": 0,
             "ticks": ""
            },
            "type": "mesh3d"
           }
          ],
          "parcoords": [
           {
            "line": {
             "colorbar": {
              "outlinewidth": 0,
              "ticks": ""
             }
            },
            "type": "parcoords"
           }
          ],
          "pie": [
           {
            "automargin": true,
            "type": "pie"
           }
          ],
          "scatter": [
           {
            "fillpattern": {
             "fillmode": "overlay",
             "size": 10,
             "solidity": 0.2
            },
            "type": "scatter"
           }
          ],
          "scatter3d": [
           {
            "line": {
             "colorbar": {
              "outlinewidth": 0,
              "ticks": ""
             }
            },
            "marker": {
             "colorbar": {
              "outlinewidth": 0,
              "ticks": ""
             }
            },
            "type": "scatter3d"
           }
          ],
          "scattercarpet": [
           {
            "marker": {
             "colorbar": {
              "outlinewidth": 0,
              "ticks": ""
             }
            },
            "type": "scattercarpet"
           }
          ],
          "scattergeo": [
           {
            "marker": {
             "colorbar": {
              "outlinewidth": 0,
              "ticks": ""
             }
            },
            "type": "scattergeo"
           }
          ],
          "scattergl": [
           {
            "marker": {
             "colorbar": {
              "outlinewidth": 0,
              "ticks": ""
             }
            },
            "type": "scattergl"
           }
          ],
          "scattermapbox": [
           {
            "marker": {
             "colorbar": {
              "outlinewidth": 0,
              "ticks": ""
             }
            },
            "type": "scattermapbox"
           }
          ],
          "scatterpolar": [
           {
            "marker": {
             "colorbar": {
              "outlinewidth": 0,
              "ticks": ""
             }
            },
            "type": "scatterpolar"
           }
          ],
          "scatterpolargl": [
           {
            "marker": {
             "colorbar": {
              "outlinewidth": 0,
              "ticks": ""
             }
            },
            "type": "scatterpolargl"
           }
          ],
          "scatterternary": [
           {
            "marker": {
             "colorbar": {
              "outlinewidth": 0,
              "ticks": ""
             }
            },
            "type": "scatterternary"
           }
          ],
          "surface": [
           {
            "colorbar": {
             "outlinewidth": 0,
             "ticks": ""
            },
            "colorscale": [
             [
              0,
              "#0d0887"
             ],
             [
              0.1111111111111111,
              "#46039f"
             ],
             [
              0.2222222222222222,
              "#7201a8"
             ],
             [
              0.3333333333333333,
              "#9c179e"
             ],
             [
              0.4444444444444444,
              "#bd3786"
             ],
             [
              0.5555555555555556,
              "#d8576b"
             ],
             [
              0.6666666666666666,
              "#ed7953"
             ],
             [
              0.7777777777777778,
              "#fb9f3a"
             ],
             [
              0.8888888888888888,
              "#fdca26"
             ],
             [
              1,
              "#f0f921"
             ]
            ],
            "type": "surface"
           }
          ],
          "table": [
           {
            "cells": {
             "fill": {
              "color": "#EBF0F8"
             },
             "line": {
              "color": "white"
             }
            },
            "header": {
             "fill": {
              "color": "#C8D4E3"
             },
             "line": {
              "color": "white"
             }
            },
            "type": "table"
           }
          ]
         },
         "layout": {
          "annotationdefaults": {
           "arrowcolor": "#2a3f5f",
           "arrowhead": 0,
           "arrowwidth": 1
          },
          "autotypenumbers": "strict",
          "coloraxis": {
           "colorbar": {
            "outlinewidth": 0,
            "ticks": ""
           }
          },
          "colorscale": {
           "diverging": [
            [
             0,
             "#8e0152"
            ],
            [
             0.1,
             "#c51b7d"
            ],
            [
             0.2,
             "#de77ae"
            ],
            [
             0.3,
             "#f1b6da"
            ],
            [
             0.4,
             "#fde0ef"
            ],
            [
             0.5,
             "#f7f7f7"
            ],
            [
             0.6,
             "#e6f5d0"
            ],
            [
             0.7,
             "#b8e186"
            ],
            [
             0.8,
             "#7fbc41"
            ],
            [
             0.9,
             "#4d9221"
            ],
            [
             1,
             "#276419"
            ]
           ],
           "sequential": [
            [
             0,
             "#0d0887"
            ],
            [
             0.1111111111111111,
             "#46039f"
            ],
            [
             0.2222222222222222,
             "#7201a8"
            ],
            [
             0.3333333333333333,
             "#9c179e"
            ],
            [
             0.4444444444444444,
             "#bd3786"
            ],
            [
             0.5555555555555556,
             "#d8576b"
            ],
            [
             0.6666666666666666,
             "#ed7953"
            ],
            [
             0.7777777777777778,
             "#fb9f3a"
            ],
            [
             0.8888888888888888,
             "#fdca26"
            ],
            [
             1,
             "#f0f921"
            ]
           ],
           "sequentialminus": [
            [
             0,
             "#0d0887"
            ],
            [
             0.1111111111111111,
             "#46039f"
            ],
            [
             0.2222222222222222,
             "#7201a8"
            ],
            [
             0.3333333333333333,
             "#9c179e"
            ],
            [
             0.4444444444444444,
             "#bd3786"
            ],
            [
             0.5555555555555556,
             "#d8576b"
            ],
            [
             0.6666666666666666,
             "#ed7953"
            ],
            [
             0.7777777777777778,
             "#fb9f3a"
            ],
            [
             0.8888888888888888,
             "#fdca26"
            ],
            [
             1,
             "#f0f921"
            ]
           ]
          },
          "colorway": [
           "#636efa",
           "#EF553B",
           "#00cc96",
           "#ab63fa",
           "#FFA15A",
           "#19d3f3",
           "#FF6692",
           "#B6E880",
           "#FF97FF",
           "#FECB52"
          ],
          "font": {
           "color": "#2a3f5f"
          },
          "geo": {
           "bgcolor": "white",
           "lakecolor": "white",
           "landcolor": "#E5ECF6",
           "showlakes": true,
           "showland": true,
           "subunitcolor": "white"
          },
          "hoverlabel": {
           "align": "left"
          },
          "hovermode": "closest",
          "mapbox": {
           "style": "light"
          },
          "paper_bgcolor": "white",
          "plot_bgcolor": "#E5ECF6",
          "polar": {
           "angularaxis": {
            "gridcolor": "white",
            "linecolor": "white",
            "ticks": ""
           },
           "bgcolor": "#E5ECF6",
           "radialaxis": {
            "gridcolor": "white",
            "linecolor": "white",
            "ticks": ""
           }
          },
          "scene": {
           "xaxis": {
            "backgroundcolor": "#E5ECF6",
            "gridcolor": "white",
            "gridwidth": 2,
            "linecolor": "white",
            "showbackground": true,
            "ticks": "",
            "zerolinecolor": "white"
           },
           "yaxis": {
            "backgroundcolor": "#E5ECF6",
            "gridcolor": "white",
            "gridwidth": 2,
            "linecolor": "white",
            "showbackground": true,
            "ticks": "",
            "zerolinecolor": "white"
           },
           "zaxis": {
            "backgroundcolor": "#E5ECF6",
            "gridcolor": "white",
            "gridwidth": 2,
            "linecolor": "white",
            "showbackground": true,
            "ticks": "",
            "zerolinecolor": "white"
           }
          },
          "shapedefaults": {
           "line": {
            "color": "#2a3f5f"
           }
          },
          "ternary": {
           "aaxis": {
            "gridcolor": "white",
            "linecolor": "white",
            "ticks": ""
           },
           "baxis": {
            "gridcolor": "white",
            "linecolor": "white",
            "ticks": ""
           },
           "bgcolor": "#E5ECF6",
           "caxis": {
            "gridcolor": "white",
            "linecolor": "white",
            "ticks": ""
           }
          },
          "title": {
           "x": 0.05
          },
          "xaxis": {
           "automargin": true,
           "gridcolor": "white",
           "linecolor": "white",
           "ticks": "",
           "title": {
            "standoff": 15
           },
           "zerolinecolor": "white",
           "zerolinewidth": 2
          },
          "yaxis": {
           "automargin": true,
           "gridcolor": "white",
           "linecolor": "white",
           "ticks": "",
           "title": {
            "standoff": 15
           },
           "zerolinecolor": "white",
           "zerolinewidth": 2
          }
         }
        },
        "xaxis": {
         "anchor": "y",
         "domain": [
          0,
          1
         ],
         "title": {
          "text": "totalamount"
         }
        },
        "yaxis": {
         "anchor": "x",
         "domain": [
          0,
          1
         ]
        }
       }
      }
     },
     "metadata": {},
     "output_type": "display_data"
    }
   ],
   "source": [
    "px.box(data_frame=orders, x=\"totalamount\")"
   ]
  },
  {
   "cell_type": "markdown",
   "metadata": {},
   "source": [
    "**Outliers:**"
   ]
  },
  {
   "cell_type": "code",
   "execution_count": 16,
   "metadata": {},
   "outputs": [
    {
     "name": "stdout",
     "output_type": "stream",
     "text": [
      "Total Number of Rows >= Upper Boundary = 56 Rows\n",
      "Total Number of Rows <= Lower Boundary = 0 Rows\n"
     ]
    }
   ],
   "source": [
    "print(f\"Total Number of Rows >= Upper Boundary = {orders[orders[\"totalamount\"] >= upper_boundary].shape[0]} Rows\")\n",
    "print(f\"Total Number of Rows <= Lower Boundary = {orders[orders[\"totalamount\"] <= lower_boundary].shape[0]} Rows\")"
   ]
  },
  {
   "cell_type": "markdown",
   "metadata": {},
   "source": [
    "**Box Plot Analysis:**"
   ]
  },
  {
   "cell_type": "markdown",
   "metadata": {},
   "source": [
    "- From the box plot and five-number summary analysis, we note that the upper boundary is almost equal = 4351.625.\n",
    "\n",
    "- The number of rows (invoices) that are bigger or equal to the upper boundary is 56 rows (invoices).\n",
    "\n",
    "- In fact, I see that 56 rows to be considered outliers is not correct compared to the total number of rows of the dataframe (830).\n",
    "\n",
    "- The second reason is due to the values from 4K to 15K are close together, which means that the difference between them is small.\n",
    "\n",
    "- In this case, I will consider that values more than 15K are considered outliers, as their values are differentiated more."
   ]
  },
  {
   "cell_type": "markdown",
   "metadata": {},
   "source": [
    "**Combination Of Histogram Chart and Box Plot Chart Showing Invoices Amount Distribution**"
   ]
  },
  {
   "cell_type": "code",
   "execution_count": 17,
   "metadata": {},
   "outputs": [
    {
     "data": {
      "text/plain": [
       "<matplotlib.lines.Line2D at 0x2904c1bb050>"
      ]
     },
     "execution_count": 17,
     "metadata": {},
     "output_type": "execute_result"
    },
    {
     "data": {
      "image/png": "[encoded data removed]",
      "text/plain": [
       "<Figure size 640x480 with 2 Axes>"
      ]
     },
     "metadata": {},
     "output_type": "display_data"
    }
   ],
   "source": [
    "fig, ax = plt.subplots(2,1)\n",
    "fig.tight_layout(h_pad=2)\n",
    "\n",
    "def salaryFormat(x, position):\n",
    "    return(f\"${int(x / 1000)}K\")\n",
    "\n",
    "ax[0].hist(x=orders[\"totalamount\"], bins=30, edgecolor=\"black\")\n",
    "ax[0].set_title(\"Distribution of Total Amount of Invoices\")\n",
    "ax[0].xaxis.set_major_formatter(plt.FuncFormatter(salaryFormat))\n",
    "ax[0].axvline(x=(orders[\"totalamount\"]).median(), color=\"red\", linestyle=\"--\", label=\"Median\")\n",
    "ax[0].axvline(x=(orders[\"totalamount\"]).mean(), color=\"black\", linestyle=\"--\", label=\"Mean\")\n",
    "ax[0].axvline(x=(orders[\"totalamount\"]).quantile(0.25), color=\"yellow\", linestyle=\"--\", label=\"Q1\")\n",
    "ax[0].axvline(x=(orders[\"totalamount\"]).quantile(0.75), color=\"yellow\", linestyle=\"--\", label=\"Q3\")\n",
    "ax[0].legend(loc=\"upper right\")\n",
    "\n",
    "ax[1].boxplot(x=orders[\"totalamount\"], vert=False)\n",
    "ax[1].set_yticks([])\n",
    "ax[1].xaxis.set_major_formatter(plt.FuncFormatter(salaryFormat))\n",
    "ax[1].set_xlabel(\"Total Amount In (USD$)\")\n",
    "ax[1].axvline(x=(orders[\"totalamount\"]).median(), color=\"red\", linestyle=\"--\")\n",
    "ax[1].axvline(x=(orders[\"totalamount\"]).mean(), color=\"black\", linestyle=\"--\")\n",
    "ax[1].axvline(x=(orders[\"totalamount\"]).quantile(0.25), color=\"yellow\", linestyle=\"--\")\n",
    "ax[1].axvline(x=(orders[\"totalamount\"]).quantile(0.75), color=\"yellow\", linestyle=\"--\")\n"
   ]
  },
  {
   "cell_type": "markdown",
   "metadata": {},
   "source": [
    "**Dealing With Ouliers:**"
   ]
  },
  {
   "cell_type": "code",
   "execution_count": 18,
   "metadata": {},
   "outputs": [
    {
     "name": "stdout",
     "output_type": "stream",
     "text": [
      "Total Number of Rows >= Upper Boundary = 3 Rows\n"
     ]
    }
   ],
   "source": [
    "print(f\"Total Number of Rows >= Upper Boundary = {orders[orders[\"totalamount\"] >= 15000].shape[0]} Rows\")"
   ]
  },
  {
   "cell_type": "code",
   "execution_count": 19,
   "metadata": {},
   "outputs": [],
   "source": [
    "orders = orders[orders[\"totalamount\"] < 15000]"
   ]
  },
  {
   "cell_type": "code",
   "execution_count": 20,
   "metadata": {},
   "outputs": [
    {
     "name": "stdout",
     "output_type": "stream",
     "text": [
      "<class 'pandas.core.frame.DataFrame'>\n",
      "Index: 827 entries, 0 to 2156\n",
      "Data columns (total 9 columns):\n",
      " #   Column       Non-Null Count  Dtype         \n",
      "---  ------       --------------  -----         \n",
      " 0   customerid   827 non-null    int64         \n",
      " 1   firstname    827 non-null    object        \n",
      " 2   lastname     827 non-null    object        \n",
      " 3   city         827 non-null    object        \n",
      " 4   country      827 non-null    object        \n",
      " 5   orderid      827 non-null    int64         \n",
      " 6   ordernumber  827 non-null    int64         \n",
      " 7   orderdate    827 non-null    datetime64[ns]\n",
      " 8   totalamount  827 non-null    float64       \n",
      "dtypes: datetime64[ns](1), float64(1), int64(3), object(4)\n",
      "memory usage: 64.6+ KB\n"
     ]
    }
   ],
   "source": [
    "orders.info()"
   ]
  },
  {
   "cell_type": "code",
   "execution_count": 21,
   "metadata": {},
   "outputs": [],
   "source": [
    "orders.to_csv(\"Orders_Dataframe.csv\", index=False)"
   ]
  }
 ],
 "metadata": {
  "kernelspec": {
   "display_name": "Python 3",
   "language": "python",
   "name": "python3"
  },
  "language_info": {
   "codemirror_mode": {
    "name": "ipython",
    "version": 3
   },
   "file_extension": ".py",
   "mimetype": "text/x-python",
   "name": "python",
   "nbconvert_exporter": "python",
   "pygments_lexer": "ipython3",
   "version": "3.12.4"
  }
 },
 "nbformat": 4,
 "nbformat_minor": 2
}
