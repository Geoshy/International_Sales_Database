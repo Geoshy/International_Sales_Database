{
 "cells": [
  {
   "cell_type": "markdown",
   "metadata": {},
   "source": [
    "### **Multivariate Analysis (Advanced Scatter Plot):**"
   ]
  },
  {
   "cell_type": "code",
   "execution_count": 1,
   "metadata": {},
   "outputs": [],
   "source": [
    "import pandas as pd\n",
    "import numpy as np\n",
    "import matplotlib.pyplot as plt\n",
    "import plotly.express as px\n",
    "import seaborn as sns\n",
    "import adjustText as adt\n",
    "import ast"
   ]
  },
  {
   "cell_type": "code",
   "execution_count": 2,
   "metadata": {},
   "outputs": [],
   "source": [
    "orders = pd.read_csv(r\"D:\\IT Courses\\Data Analysis Courses\\Data Analysis Projects\\International Sales Company Project\\International_Sales_Database\\Python_Analysis\\2_Data_Exploration_Univariate_Analysis\\Orders_Dataframe.csv\")"
   ]
  },
  {
   "cell_type": "code",
   "execution_count": 3,
   "metadata": {},
   "outputs": [],
   "source": [
    "orders[\"orderdate\"] = pd.to_datetime(orders[\"orderdate\"])"
   ]
  },
  {
   "cell_type": "code",
   "execution_count": 4,
   "metadata": {},
   "outputs": [],
   "source": [
    "orders[\"monthyear\"] = orders[\"orderdate\"].dt.strftime(\"%b %Y\")"
   ]
  },
  {
   "cell_type": "code",
   "execution_count": 5,
   "metadata": {},
   "outputs": [
    {
     "data": {
      "text/html": [
       "<div>\n",
       "<style scoped>\n",
       "    .dataframe tbody tr th:only-of-type {\n",
       "        vertical-align: middle;\n",
       "    }\n",
       "\n",
       "    .dataframe tbody tr th {\n",
       "        vertical-align: top;\n",
       "    }\n",
       "\n",
       "    .dataframe thead th {\n",
       "        text-align: right;\n",
       "    }\n",
       "</style>\n",
       "<table border=\"1\" class=\"dataframe\">\n",
       "  <thead>\n",
       "    <tr style=\"text-align: right;\">\n",
       "      <th></th>\n",
       "      <th></th>\n",
       "      <th>total_amount_sum</th>\n",
       "    </tr>\n",
       "    <tr>\n",
       "      <th>monthyear</th>\n",
       "      <th>country</th>\n",
       "      <th></th>\n",
       "    </tr>\n",
       "  </thead>\n",
       "  <tbody>\n",
       "    <tr>\n",
       "      <th>Jan 2014</th>\n",
       "      <th>USA</th>\n",
       "      <td>27594.45</td>\n",
       "    </tr>\n",
       "    <tr>\n",
       "      <th>Jul 2013</th>\n",
       "      <th>USA</th>\n",
       "      <td>26022.30</td>\n",
       "    </tr>\n",
       "    <tr>\n",
       "      <th>Apr 2014</th>\n",
       "      <th>Germany</th>\n",
       "      <td>22584.49</td>\n",
       "    </tr>\n",
       "    <tr>\n",
       "      <th>Jan 2014</th>\n",
       "      <th>Germany</th>\n",
       "      <td>22135.55</td>\n",
       "    </tr>\n",
       "    <tr>\n",
       "      <th>Oct 2013</th>\n",
       "      <th>Germany</th>\n",
       "      <td>22079.05</td>\n",
       "    </tr>\n",
       "    <tr>\n",
       "      <th>...</th>\n",
       "      <th>...</th>\n",
       "      <td>...</td>\n",
       "    </tr>\n",
       "    <tr>\n",
       "      <th>Dec 2012</th>\n",
       "      <th>France</th>\n",
       "      <td>91.20</td>\n",
       "    </tr>\n",
       "    <tr>\n",
       "      <th>Mar 2014</th>\n",
       "      <th>Portugal</th>\n",
       "      <td>68.00</td>\n",
       "    </tr>\n",
       "    <tr>\n",
       "      <th>Sep 2013</th>\n",
       "      <th>UK</th>\n",
       "      <td>45.00</td>\n",
       "    </tr>\n",
       "    <tr>\n",
       "      <th>Jul 2013</th>\n",
       "      <th>Italy</th>\n",
       "      <td>28.00</td>\n",
       "    </tr>\n",
       "    <tr>\n",
       "      <th>Dec 2013</th>\n",
       "      <th>Argentina</th>\n",
       "      <td>12.50</td>\n",
       "    </tr>\n",
       "  </tbody>\n",
       "</table>\n",
       "<p>322 rows × 1 columns</p>\n",
       "</div>"
      ],
      "text/plain": [
       "                     total_amount_sum\n",
       "monthyear country                    \n",
       "Jan 2014  USA                27594.45\n",
       "Jul 2013  USA                26022.30\n",
       "Apr 2014  Germany            22584.49\n",
       "Jan 2014  Germany            22135.55\n",
       "Oct 2013  Germany            22079.05\n",
       "...                               ...\n",
       "Dec 2012  France                91.20\n",
       "Mar 2014  Portugal              68.00\n",
       "Sep 2013  UK                    45.00\n",
       "Jul 2013  Italy                 28.00\n",
       "Dec 2013  Argentina             12.50\n",
       "\n",
       "[322 rows x 1 columns]"
      ]
     },
     "execution_count": 5,
     "metadata": {},
     "output_type": "execute_result"
    }
   ],
   "source": [
    "month_country_group = orders.groupby(by=[\"monthyear\", \"country\"]).agg(\n",
    "    total_amount_sum =(\"totalamount\", \"sum\")\n",
    ").sort_values(by=\"total_amount_sum\", ascending=False)\n",
    "month_country_group"
   ]
  },
  {
   "cell_type": "code",
   "execution_count": 9,
   "metadata": {},
   "outputs": [],
   "source": [
    "month_country_group.reset_index(inplace=True)"
   ]
  },
  {
   "cell_type": "code",
   "execution_count": 10,
   "metadata": {},
   "outputs": [
    {
     "data": {
      "text/html": [
       "<div>\n",
       "<style scoped>\n",
       "    .dataframe tbody tr th:only-of-type {\n",
       "        vertical-align: middle;\n",
       "    }\n",
       "\n",
       "    .dataframe tbody tr th {\n",
       "        vertical-align: top;\n",
       "    }\n",
       "\n",
       "    .dataframe thead th {\n",
       "        text-align: right;\n",
       "    }\n",
       "</style>\n",
       "<table border=\"1\" class=\"dataframe\">\n",
       "  <thead>\n",
       "    <tr style=\"text-align: right;\">\n",
       "      <th></th>\n",
       "      <th>monthyear</th>\n",
       "      <th>country</th>\n",
       "      <th>total_amount_sum</th>\n",
       "    </tr>\n",
       "  </thead>\n",
       "  <tbody>\n",
       "    <tr>\n",
       "      <th>0</th>\n",
       "      <td>Jan 2014</td>\n",
       "      <td>USA</td>\n",
       "      <td>27594.45</td>\n",
       "    </tr>\n",
       "    <tr>\n",
       "      <th>1</th>\n",
       "      <td>Jul 2013</td>\n",
       "      <td>USA</td>\n",
       "      <td>26022.30</td>\n",
       "    </tr>\n",
       "    <tr>\n",
       "      <th>2</th>\n",
       "      <td>Apr 2014</td>\n",
       "      <td>Germany</td>\n",
       "      <td>22584.49</td>\n",
       "    </tr>\n",
       "    <tr>\n",
       "      <th>3</th>\n",
       "      <td>Jan 2014</td>\n",
       "      <td>Germany</td>\n",
       "      <td>22135.55</td>\n",
       "    </tr>\n",
       "    <tr>\n",
       "      <th>4</th>\n",
       "      <td>Oct 2013</td>\n",
       "      <td>Germany</td>\n",
       "      <td>22079.05</td>\n",
       "    </tr>\n",
       "    <tr>\n",
       "      <th>...</th>\n",
       "      <td>...</td>\n",
       "      <td>...</td>\n",
       "      <td>...</td>\n",
       "    </tr>\n",
       "    <tr>\n",
       "      <th>317</th>\n",
       "      <td>Dec 2012</td>\n",
       "      <td>France</td>\n",
       "      <td>91.20</td>\n",
       "    </tr>\n",
       "    <tr>\n",
       "      <th>318</th>\n",
       "      <td>Mar 2014</td>\n",
       "      <td>Portugal</td>\n",
       "      <td>68.00</td>\n",
       "    </tr>\n",
       "    <tr>\n",
       "      <th>319</th>\n",
       "      <td>Sep 2013</td>\n",
       "      <td>UK</td>\n",
       "      <td>45.00</td>\n",
       "    </tr>\n",
       "    <tr>\n",
       "      <th>320</th>\n",
       "      <td>Jul 2013</td>\n",
       "      <td>Italy</td>\n",
       "      <td>28.00</td>\n",
       "    </tr>\n",
       "    <tr>\n",
       "      <th>321</th>\n",
       "      <td>Dec 2013</td>\n",
       "      <td>Argentina</td>\n",
       "      <td>12.50</td>\n",
       "    </tr>\n",
       "  </tbody>\n",
       "</table>\n",
       "<p>322 rows × 3 columns</p>\n",
       "</div>"
      ],
      "text/plain": [
       "    monthyear    country  total_amount_sum\n",
       "0    Jan 2014        USA          27594.45\n",
       "1    Jul 2013        USA          26022.30\n",
       "2    Apr 2014    Germany          22584.49\n",
       "3    Jan 2014    Germany          22135.55\n",
       "4    Oct 2013    Germany          22079.05\n",
       "..        ...        ...               ...\n",
       "317  Dec 2012     France             91.20\n",
       "318  Mar 2014   Portugal             68.00\n",
       "319  Sep 2013         UK             45.00\n",
       "320  Jul 2013      Italy             28.00\n",
       "321  Dec 2013  Argentina             12.50\n",
       "\n",
       "[322 rows x 3 columns]"
      ]
     },
     "execution_count": 10,
     "metadata": {},
     "output_type": "execute_result"
    }
   ],
   "source": [
    "month_country_group"
   ]
  },
  {
   "cell_type": "code",
   "execution_count": 24,
   "metadata": {},
   "outputs": [],
   "source": [
    "month_country_group['monthyear'] = pd.to_datetime(month_country_group['monthyear'], format='%b %Y')"
   ]
  },
  {
   "cell_type": "code",
   "execution_count": 27,
   "metadata": {},
   "outputs": [
    {
     "data": {
      "application/vnd.plotly.v1+json": {
       "config": {
        "plotlyServerURL": "https://plot.ly"
       },
       "data": [
        {
         "hovertemplate": "country=USA<br>Month - Year=%{x}<br>Total Amount In (USD$)=%{marker.size}<extra></extra>",
         "legendgroup": "USA",
         "marker": {
          "color": "#636efa",
          "size": [
           27594.45,
           26022.3,
           20836.12,
           18775.65,
           17899.58,
           16429.95,
           13004.25,
           12472.1,
           11909.8,
           10367,
           10209.8,
           10131.5,
           9644.1,
           7608.05,
           7025.650000000001,
           6123.94,
           4728.8,
           4456,
           3632.5,
           3391.6,
           2657.74,
           1300.8,
           1023.4
          ],
          "sizemode": "area",
          "sizeref": 68.986125,
          "symbol": "circle"
         },
         "mode": "markers",
         "name": "USA",
         "orientation": "v",
         "showlegend": true,
         "type": "scatter",
         "x": [
          "2014-01-01T00:00:00",
          "2013-07-01T00:00:00",
          "2013-10-01T00:00:00",
          "2014-02-01T00:00:00",
          "2014-04-01T00:00:00",
          "2013-09-01T00:00:00",
          "2014-03-01T00:00:00",
          "2013-03-01T00:00:00",
          "2012-10-01T00:00:00",
          "2012-09-01T00:00:00",
          "2012-12-01T00:00:00",
          "2013-11-01T00:00:00",
          "2013-02-01T00:00:00",
          "2013-06-01T00:00:00",
          "2014-05-01T00:00:00",
          "2013-04-01T00:00:00",
          "2012-11-01T00:00:00",
          "2013-01-01T00:00:00",
          "2013-12-01T00:00:00",
          "2012-08-01T00:00:00",
          "2013-08-01T00:00:00",
          "2012-07-01T00:00:00",
          "2013-05-01T00:00:00"
         ],
         "xaxis": "x",
         "y": [
          27594.45,
          26022.3,
          20836.12,
          18775.65,
          17899.58,
          16429.95,
          13004.25,
          12472.1,
          11909.8,
          10367,
          10209.8,
          10131.5,
          9644.1,
          7608.05,
          7025.650000000001,
          6123.94,
          4728.8,
          4456,
          3632.5,
          3391.6,
          2657.74,
          1300.8,
          1023.4
         ],
         "yaxis": "y"
        },
        {
         "hovertemplate": "country=Germany<br>Month - Year=%{x}<br>Total Amount In (USD$)=%{marker.size}<extra></extra>",
         "legendgroup": "Germany",
         "marker": {
          "color": "#EF553B",
          "size": [
           22584.489999999998,
           22135.550000000003,
           22079.05,
           21234,
           18042.2,
           13633.279999999999,
           12589.4,
           11224.85,
           10458.4,
           8464.65,
           8015.200000000001,
           7640.6,
           7510.459999999999,
           7358.5,
           7148,
           5954.299999999999,
           4998.75,
           4529.8,
           3008.8,
           2552.2,
           2277.6,
           1990.2,
           1960.35
          ],
          "sizemode": "area",
          "sizeref": 68.986125,
          "symbol": "circle"
         },
         "mode": "markers",
         "name": "Germany",
         "orientation": "v",
         "showlegend": true,
         "type": "scatter",
         "x": [
          "2014-04-01T00:00:00",
          "2014-01-01T00:00:00",
          "2013-10-01T00:00:00",
          "2013-05-01T00:00:00",
          "2013-04-01T00:00:00",
          "2013-12-01T00:00:00",
          "2013-09-01T00:00:00",
          "2014-03-01T00:00:00",
          "2012-08-01T00:00:00",
          "2013-07-01T00:00:00",
          "2012-10-01T00:00:00",
          "2012-07-01T00:00:00",
          "2014-02-01T00:00:00",
          "2013-02-01T00:00:00",
          "2012-11-01T00:00:00",
          "2013-06-01T00:00:00",
          "2013-08-01T00:00:00",
          "2013-11-01T00:00:00",
          "2013-01-01T00:00:00",
          "2012-09-01T00:00:00",
          "2013-03-01T00:00:00",
          "2012-12-01T00:00:00",
          "2014-05-01T00:00:00"
         ],
         "xaxis": "x",
         "y": [
          22584.489999999998,
          22135.550000000003,
          22079.05,
          21234,
          18042.2,
          13633.279999999999,
          12589.4,
          11224.85,
          10458.4,
          8464.65,
          8015.200000000001,
          7640.6,
          7510.459999999999,
          7358.5,
          7148,
          5954.299999999999,
          4998.75,
          4529.8,
          3008.8,
          2552.2,
          2277.6,
          1990.2,
          1960.35
         ],
         "yaxis": "y"
        },
        {
         "hovertemplate": "country=Austria<br>Month - Year=%{x}<br>Total Amount In (USD$)=%{marker.size}<extra></extra>",
         "legendgroup": "Austria",
         "marker": {
          "color": "#00cc96",
          "size": [
           20243.25,
           18253.4,
           14584,
           10166.4,
           8930.5,
           8623.45,
           7100.1,
           6615.2,
           6483.05,
           6379.4,
           6221.5,
           5218,
           4483.4,
           4180,
           3600.73,
           3559.45,
           1912.85,
           1792,
           647.75,
           502.2
          ],
          "sizemode": "area",
          "sizeref": 68.986125,
          "symbol": "circle"
         },
         "mode": "markers",
         "name": "Austria",
         "orientation": "v",
         "showlegend": true,
         "type": "scatter",
         "x": [
          "2014-04-01T00:00:00",
          "2012-11-01T00:00:00",
          "2013-12-01T00:00:00",
          "2013-01-01T00:00:00",
          "2014-01-01T00:00:00",
          "2013-04-01T00:00:00",
          "2013-07-01T00:00:00",
          "2012-12-01T00:00:00",
          "2013-08-01T00:00:00",
          "2014-02-01T00:00:00",
          "2014-03-01T00:00:00",
          "2014-05-01T00:00:00",
          "2012-07-01T00:00:00",
          "2013-05-01T00:00:00",
          "2013-10-01T00:00:00",
          "2013-09-01T00:00:00",
          "2013-11-01T00:00:00",
          "2013-02-01T00:00:00",
          "2013-06-01T00:00:00",
          "2013-03-01T00:00:00"
         ],
         "xaxis": "x",
         "y": [
          20243.25,
          18253.4,
          14584,
          10166.4,
          8930.5,
          8623.45,
          7100.1,
          6615.2,
          6483.05,
          6379.4,
          6221.5,
          5218,
          4483.4,
          4180,
          3600.73,
          3559.45,
          1912.85,
          1792,
          647.75,
          502.2
         ],
         "yaxis": "y"
        },
        {
         "hovertemplate": "country=Ireland<br>Month - Year=%{x}<br>Total Amount In (USD$)=%{marker.size}<extra></extra>",
         "legendgroup": "Ireland",
         "marker": {
          "color": "#ab63fa",
          "size": [
           19102.64,
           6905.15,
           4889,
           4663,
           4608.4,
           3127.8,
           3109,
           2545.2,
           2248.2,
           1928,
           1748.5,
           1445.5,
           997
          ],
          "sizemode": "area",
          "sizeref": 68.986125,
          "symbol": "circle"
         },
         "mode": "markers",
         "name": "Ireland",
         "orientation": "v",
         "showlegend": true,
         "type": "scatter",
         "x": [
          "2014-02-01T00:00:00",
          "2013-09-01T00:00:00",
          "2012-09-01T00:00:00",
          "2013-04-01T00:00:00",
          "2013-10-01T00:00:00",
          "2012-12-01T00:00:00",
          "2013-06-01T00:00:00",
          "2012-10-01T00:00:00",
          "2014-03-01T00:00:00",
          "2013-08-01T00:00:00",
          "2013-01-01T00:00:00",
          "2014-04-01T00:00:00",
          "2013-11-01T00:00:00"
         ],
         "xaxis": "x",
         "y": [
          19102.64,
          6905.15,
          4889,
          4663,
          4608.4,
          3127.8,
          3109,
          2545.2,
          2248.2,
          1928,
          1748.5,
          1445.5,
          997
         ],
         "yaxis": "y"
        },
        {
         "hovertemplate": "country=Canada<br>Month - Year=%{x}<br>Total Amount In (USD$)=%{marker.size}<extra></extra>",
         "legendgroup": "Canada",
         "marker": {
          "color": "#FFA15A",
          "size": [
           16026.7,
           9222.6,
           5696.799999999999,
           5466,
           4015,
           3306,
           3118,
           3004.8,
           2252.8,
           1321.9,
           1078,
           638.5,
           187
          ],
          "sizemode": "area",
          "sizeref": 68.986125,
          "symbol": "circle"
         },
         "mode": "markers",
         "name": "Canada",
         "orientation": "v",
         "showlegend": true,
         "type": "scatter",
         "x": [
          "2013-01-01T00:00:00",
          "2014-03-01T00:00:00",
          "2012-10-01T00:00:00",
          "2013-07-01T00:00:00",
          "2013-08-01T00:00:00",
          "2013-06-01T00:00:00",
          "2013-11-01T00:00:00",
          "2014-04-01T00:00:00",
          "2012-12-01T00:00:00",
          "2013-04-01T00:00:00",
          "2013-02-01T00:00:00",
          "2013-10-01T00:00:00",
          "2014-01-01T00:00:00"
         ],
         "xaxis": "x",
         "y": [
          16026.7,
          9222.6,
          5696.799999999999,
          5466,
          4015,
          3306,
          3118,
          3004.8,
          2252.8,
          1321.9,
          1078,
          638.5,
          187
         ],
         "yaxis": "y"
        },
        {
         "hovertemplate": "country=Brazil<br>Month - Year=%{x}<br>Total Amount In (USD$)=%{marker.size}<extra></extra>",
         "legendgroup": "Brazil",
         "marker": {
          "color": "#19d3f3",
          "size": [
           13406.400000000001,
           10051.4,
           9296.95,
           7929.62,
           6450.6,
           6440.4,
           6007.3,
           5652.75,
           4941.8,
           4740.1,
           4223.6,
           2795.1,
           2613.1,
           2424.48,
           2384.8,
           2362.88,
           2162.8,
           1730,
           1352.5,
           928,
           914.4,
           349.5
          ],
          "sizemode": "area",
          "sizeref": 68.986125,
          "symbol": "circle"
         },
         "mode": "markers",
         "name": "Brazil",
         "orientation": "v",
         "showlegend": true,
         "type": "scatter",
         "x": [
          "2012-12-01T00:00:00",
          "2014-02-01T00:00:00",
          "2013-08-01T00:00:00",
          "2014-01-01T00:00:00",
          "2013-12-01T00:00:00",
          "2013-01-01T00:00:00",
          "2013-10-01T00:00:00",
          "2014-04-01T00:00:00",
          "2012-08-01T00:00:00",
          "2014-03-01T00:00:00",
          "2012-07-01T00:00:00",
          "2013-11-01T00:00:00",
          "2013-03-01T00:00:00",
          "2013-09-01T00:00:00",
          "2014-05-01T00:00:00",
          "2013-07-01T00:00:00",
          "2013-05-01T00:00:00",
          "2013-04-01T00:00:00",
          "2013-06-01T00:00:00",
          "2012-11-01T00:00:00",
          "2013-02-01T00:00:00",
          "2012-09-01T00:00:00"
         ],
         "xaxis": "x",
         "y": [
          13406.400000000001,
          10051.4,
          9296.95,
          7929.62,
          6450.6,
          6440.4,
          6007.3,
          5652.75,
          4941.8,
          4740.1,
          4223.6,
          2795.1,
          2613.1,
          2424.48,
          2384.8,
          2362.88,
          2162.8,
          1730,
          1352.5,
          928,
          914.4,
          349.5
         ],
         "yaxis": "y"
        },
        {
         "hovertemplate": "country=Denmark<br>Month - Year=%{x}<br>Total Amount In (USD$)=%{marker.size}<extra></extra>",
         "legendgroup": "Denmark",
         "marker": {
          "color": "#FF6692",
          "size": [
           11283.2,
           5627.75,
           3490,
           3343.5,
           2719,
           1765.6,
           990,
           920,
           877.5,
           870,
           835.2,
           834.2,
           570,
           412,
           244.3
          ],
          "sizemode": "area",
          "sizeref": 68.986125,
          "symbol": "circle"
         },
         "mode": "markers",
         "name": "Denmark",
         "orientation": "v",
         "showlegend": true,
         "type": "scatter",
         "x": [
          "2013-01-01T00:00:00",
          "2013-12-01T00:00:00",
          "2013-10-01T00:00:00",
          "2014-03-01T00:00:00",
          "2013-03-01T00:00:00",
          "2012-12-01T00:00:00",
          "2014-04-01T00:00:00",
          "2013-11-01T00:00:00",
          "2013-07-01T00:00:00",
          "2013-08-01T00:00:00",
          "2013-06-01T00:00:00",
          "2012-11-01T00:00:00",
          "2013-09-01T00:00:00",
          "2012-10-01T00:00:00",
          "2014-05-01T00:00:00"
         ],
         "xaxis": "x",
         "y": [
          11283.2,
          5627.75,
          3490,
          3343.5,
          2719,
          1765.6,
          990,
          920,
          877.5,
          870,
          835.2,
          834.2,
          570,
          412,
          244.3
         ],
         "yaxis": "y"
        },
        {
         "hovertemplate": "country=Sweden<br>Month - Year=%{x}<br>Total Amount In (USD$)=%{marker.size}<extra></extra>",
         "legendgroup": "Sweden",
         "marker": {
          "color": "#B6E880",
          "size": [
           10196.25,
           5487.85,
           5308.5,
           5081.9,
           4879.2,
           4670.5,
           4410.15,
           4135.75,
           3175,
           2325.6,
           2262.5,
           2102,
           1801.4,
           1503.6,
           1459,
           724.5
          ],
          "sizemode": "area",
          "sizeref": 68.986125,
          "symbol": "circle"
         },
         "mode": "markers",
         "name": "Sweden",
         "orientation": "v",
         "showlegend": true,
         "type": "scatter",
         "x": [
          "2014-04-01T00:00:00",
          "2013-05-01T00:00:00",
          "2013-12-01T00:00:00",
          "2014-02-01T00:00:00",
          "2013-09-01T00:00:00",
          "2014-03-01T00:00:00",
          "2013-06-01T00:00:00",
          "2014-01-01T00:00:00",
          "2013-10-01T00:00:00",
          "2012-12-01T00:00:00",
          "2012-10-01T00:00:00",
          "2012-08-01T00:00:00",
          "2013-02-01T00:00:00",
          "2013-08-01T00:00:00",
          "2013-11-01T00:00:00",
          "2012-07-01T00:00:00"
         ],
         "xaxis": "x",
         "y": [
          10196.25,
          5487.85,
          5308.5,
          5081.9,
          4879.2,
          4670.5,
          4410.15,
          4135.75,
          3175,
          2325.6,
          2262.5,
          2102,
          1801.4,
          1503.6,
          1459,
          724.5
         ],
         "yaxis": "y"
        },
        {
         "hovertemplate": "country=France<br>Month - Year=%{x}<br>Total Amount In (USD$)=%{marker.size}<extra></extra>",
         "legendgroup": "France",
         "marker": {
          "color": "#FF97FF",
          "size": [
           10105.199999999999,
           8350.11,
           7635.900000000001,
           6682.4,
           6331.95,
           5497.5,
           4226.8,
           4225.6,
           3969,
           3899.9,
           3675.1,
           3658,
           3212.8,
           3072.8,
           2797.7000000000003,
           2286.8,
           1810.4,
           1296,
           1057,
           823,
           538.6,
           255,
           91.2
          ],
          "sizemode": "area",
          "sizeref": 68.986125,
          "symbol": "circle"
         },
         "mode": "markers",
         "name": "France",
         "orientation": "v",
         "showlegend": true,
         "type": "scatter",
         "x": [
          "2012-11-01T00:00:00",
          "2014-03-01T00:00:00",
          "2013-12-01T00:00:00",
          "2013-02-01T00:00:00",
          "2014-01-01T00:00:00",
          "2013-08-01T00:00:00",
          "2013-04-01T00:00:00",
          "2013-01-01T00:00:00",
          "2014-02-01T00:00:00",
          "2013-11-01T00:00:00",
          "2013-09-01T00:00:00",
          "2013-05-01T00:00:00",
          "2013-06-01T00:00:00",
          "2013-03-01T00:00:00",
          "2012-10-01T00:00:00",
          "2012-07-01T00:00:00",
          "2012-09-01T00:00:00",
          "2013-10-01T00:00:00",
          "2014-05-01T00:00:00",
          "2013-07-01T00:00:00",
          "2012-08-01T00:00:00",
          "2014-04-01T00:00:00",
          "2012-12-01T00:00:00"
         ],
         "xaxis": "x",
         "y": [
          10105.199999999999,
          8350.11,
          7635.900000000001,
          6682.4,
          6331.95,
          5497.5,
          4226.8,
          4225.6,
          3969,
          3899.9,
          3675.1,
          3658,
          3212.8,
          3072.8,
          2797.7000000000003,
          2286.8,
          1810.4,
          1296,
          1057,
          823,
          538.6,
          255,
          91.2
         ],
         "yaxis": "y"
        },
        {
         "hovertemplate": "country=UK<br>Month - Year=%{x}<br>Total Amount In (USD$)=%{marker.size}<extra></extra>",
         "legendgroup": "UK",
         "marker": {
          "color": "#FECB52",
          "size": [
           9688.6,
           8833.81,
           6037.25,
           5915.55,
           5084.4,
           3189,
           3151.8,
           3063,
           2695.5,
           2619.9,
           2608,
           1912,
           1704,
           1084.6,
           758.5,
           516.8,
           493,
           479.4,
           384.4,
           352,
           45
          ],
          "sizemode": "area",
          "sizeref": 68.986125,
          "symbol": "circle"
         },
         "mode": "markers",
         "name": "UK",
         "orientation": "v",
         "showlegend": true,
         "type": "scatter",
         "x": [
          "2014-03-01T00:00:00",
          "2014-04-01T00:00:00",
          "2013-12-01T00:00:00",
          "2013-05-01T00:00:00",
          "2012-11-01T00:00:00",
          "2012-12-01T00:00:00",
          "2013-03-01T00:00:00",
          "2013-01-01T00:00:00",
          "2014-01-01T00:00:00",
          "2013-06-01T00:00:00",
          "2013-11-01T00:00:00",
          "2014-02-01T00:00:00",
          "2013-10-01T00:00:00",
          "2013-02-01T00:00:00",
          "2013-08-01T00:00:00",
          "2012-09-01T00:00:00",
          "2013-07-01T00:00:00",
          "2012-08-01T00:00:00",
          "2012-10-01T00:00:00",
          "2013-04-01T00:00:00",
          "2013-09-01T00:00:00"
         ],
         "xaxis": "x",
         "y": [
          9688.6,
          8833.81,
          6037.25,
          5915.55,
          5084.4,
          3189,
          3151.8,
          3063,
          2695.5,
          2619.9,
          2608,
          1912,
          1704,
          1084.6,
          758.5,
          516.8,
          493,
          479.4,
          384.4,
          352,
          45
         ],
         "yaxis": "y"
        },
        {
         "hovertemplate": "country=Switzerland<br>Month - Year=%{x}<br>Total Amount In (USD$)=%{marker.size}<extra></extra>",
         "legendgroup": "Switzerland",
         "marker": {
          "color": "#636efa",
          "size": [
           7647.76,
           6765.8,
           4666.94,
           3115.7,
           2575.5,
           2356,
           2208,
           1823.8,
           1174,
           586
          ],
          "sizemode": "area",
          "sizeref": 68.986125,
          "symbol": "circle"
         },
         "mode": "markers",
         "name": "Switzerland",
         "orientation": "v",
         "showlegend": true,
         "type": "scatter",
         "x": [
          "2013-11-01T00:00:00",
          "2014-04-01T00:00:00",
          "2013-09-01T00:00:00",
          "2012-07-01T00:00:00",
          "2014-03-01T00:00:00",
          "2013-04-01T00:00:00",
          "2013-01-01T00:00:00",
          "2013-05-01T00:00:00",
          "2012-12-01T00:00:00",
          "2014-05-01T00:00:00"
         ],
         "xaxis": "x",
         "y": [
          7647.76,
          6765.8,
          4666.94,
          3115.7,
          2575.5,
          2356,
          2208,
          1823.8,
          1174,
          586
         ],
         "yaxis": "y"
        },
        {
         "hovertemplate": "country=Venezuela<br>Month - Year=%{x}<br>Total Amount In (USD$)=%{marker.size}<extra></extra>",
         "legendgroup": "Venezuela",
         "marker": {
          "color": "#EF553B",
          "size": [
           7067.7,
           6808,
           6377.6,
           5976.2,
           4774.05,
           3985.58,
           2650.5,
           2643,
           2445.2,
           2221.1000000000004,
           2051.6,
           1987,
           1940,
           1850,
           1597.5,
           1451.9,
           1414.8,
           1360,
           1050.6,
           762.56,
           400
          ],
          "sizemode": "area",
          "sizeref": 68.986125,
          "symbol": "circle"
         },
         "mode": "markers",
         "name": "Venezuela",
         "orientation": "v",
         "showlegend": true,
         "type": "scatter",
         "x": [
          "2014-04-01T00:00:00",
          "2014-01-01T00:00:00",
          "2013-03-01T00:00:00",
          "2014-03-01T00:00:00",
          "2013-08-01T00:00:00",
          "2013-12-01T00:00:00",
          "2013-05-01T00:00:00",
          "2013-07-01T00:00:00",
          "2012-12-01T00:00:00",
          "2012-07-01T00:00:00",
          "2013-02-01T00:00:00",
          "2013-04-01T00:00:00",
          "2012-10-01T00:00:00",
          "2013-11-01T00:00:00",
          "2014-02-01T00:00:00",
          "2013-10-01T00:00:00",
          "2012-08-01T00:00:00",
          "2012-11-01T00:00:00",
          "2012-09-01T00:00:00",
          "2014-05-01T00:00:00",
          "2013-01-01T00:00:00"
         ],
         "xaxis": "x",
         "y": [
          7067.7,
          6808,
          6377.6,
          5976.2,
          4774.05,
          3985.58,
          2650.5,
          2643,
          2445.2,
          2221.1000000000004,
          2051.6,
          1987,
          1940,
          1850,
          1597.5,
          1451.9,
          1414.8,
          1360,
          1050.6,
          762.56,
          400
         ],
         "yaxis": "y"
        },
        {
         "hovertemplate": "country=Mexico<br>Month - Year=%{x}<br>Total Amount In (USD$)=%{marker.size}<extra></extra>",
         "legendgroup": "Mexico",
         "marker": {
          "color": "#00cc96",
          "size": [
           5847.6,
           2920.45,
           2156.5,
           1867.25,
           1635,
           1303.2,
           1268.7,
           1249.1,
           1196,
           1043.2,
           972,
           660,
           539.5,
           514.4,
           479.75,
           320,
           100.8
          ],
          "sizemode": "area",
          "sizeref": 68.986125,
          "symbol": "circle"
         },
         "mode": "markers",
         "name": "Mexico",
         "orientation": "v",
         "showlegend": true,
         "type": "scatter",
         "x": [
          "2013-04-01T00:00:00",
          "2013-06-01T00:00:00",
          "2013-05-01T00:00:00",
          "2013-09-01T00:00:00",
          "2014-01-01T00:00:00",
          "2012-10-01T00:00:00",
          "2012-08-01T00:00:00",
          "2013-03-01T00:00:00",
          "2014-04-01T00:00:00",
          "2012-09-01T00:00:00",
          "2012-11-01T00:00:00",
          "2014-05-01T00:00:00",
          "2014-02-01T00:00:00",
          "2014-03-01T00:00:00",
          "2013-08-01T00:00:00",
          "2013-11-01T00:00:00",
          "2012-07-01T00:00:00"
         ],
         "xaxis": "x",
         "y": [
          5847.6,
          2920.45,
          2156.5,
          1867.25,
          1635,
          1303.2,
          1268.7,
          1249.1,
          1196,
          1043.2,
          972,
          660,
          539.5,
          514.4,
          479.75,
          320,
          100.8
         ],
         "yaxis": "y"
        },
        {
         "hovertemplate": "country=Belgium<br>Month - Year=%{x}<br>Total Amount In (USD$)=%{marker.size}<extra></extra>",
         "legendgroup": "Belgium",
         "marker": {
          "color": "#ab63fa",
          "size": [
           5693,
           4159.5,
           3955.7,
           3891,
           3730,
           3332,
           2800.88,
           2708.8,
           2484.1,
           1434,
           946
          ],
          "sizemode": "area",
          "sizeref": 68.986125,
          "symbol": "circle"
         },
         "mode": "markers",
         "name": "Belgium",
         "orientation": "v",
         "showlegend": true,
         "type": "scatter",
         "x": [
          "2014-01-01T00:00:00",
          "2014-02-01T00:00:00",
          "2014-03-01T00:00:00",
          "2013-02-01T00:00:00",
          "2012-07-01T00:00:00",
          "2013-12-01T00:00:00",
          "2014-04-01T00:00:00",
          "2012-09-01T00:00:00",
          "2013-03-01T00:00:00",
          "2013-08-01T00:00:00",
          "2013-05-01T00:00:00"
         ],
         "xaxis": "x",
         "y": [
          5693,
          4159.5,
          3955.7,
          3891,
          3730,
          3332,
          2800.88,
          2708.8,
          2484.1,
          1434,
          946
         ],
         "yaxis": "y"
        },
        {
         "hovertemplate": "country=Spain<br>Month - Year=%{x}<br>Total Amount In (USD$)=%{marker.size}<extra></extra>",
         "legendgroup": "Spain",
         "marker": {
          "color": "#FFA15A",
          "size": [
           4035.8,
           4009.8,
           3145.64,
           2775.05,
           1740.5,
           1123,
           982,
           749,
           338.2,
           241.9,
           155,
           136
          ],
          "sizemode": "area",
          "sizeref": 68.986125,
          "symbol": "circle"
         },
         "mode": "markers",
         "name": "Spain",
         "orientation": "v",
         "showlegend": true,
         "type": "scatter",
         "x": [
          "2013-12-01T00:00:00",
          "2014-02-01T00:00:00",
          "2014-03-01T00:00:00",
          "2013-08-01T00:00:00",
          "2012-09-01T00:00:00",
          "2014-04-01T00:00:00",
          "2012-10-01T00:00:00",
          "2013-05-01T00:00:00",
          "2013-01-01T00:00:00",
          "2012-08-01T00:00:00",
          "2013-06-01T00:00:00",
          "2012-11-01T00:00:00"
         ],
         "xaxis": "x",
         "y": [
          4035.8,
          4009.8,
          3145.64,
          2775.05,
          1740.5,
          1123,
          982,
          749,
          338.2,
          241.9,
          155,
          136
         ],
         "yaxis": "y"
        },
        {
         "hovertemplate": "country=Argentina<br>Month - Year=%{x}<br>Total Amount In (USD$)=%{marker.size}<extra></extra>",
         "legendgroup": "Argentina",
         "marker": {
          "color": "#19d3f3",
          "size": [
           3645.8,
           1409,
           866.7,
           706,
           443.4,
           381,
           319.2,
           225.5,
           110,
           12.5
          ],
          "sizemode": "area",
          "sizeref": 68.986125,
          "symbol": "circle"
         },
         "mode": "markers",
         "name": "Argentina",
         "orientation": "v",
         "showlegend": true,
         "type": "scatter",
         "x": [
          "2014-03-01T00:00:00",
          "2014-01-01T00:00:00",
          "2014-02-01T00:00:00",
          "2013-10-01T00:00:00",
          "2013-02-01T00:00:00",
          "2014-04-01T00:00:00",
          "2013-01-01T00:00:00",
          "2013-04-01T00:00:00",
          "2013-05-01T00:00:00",
          "2013-12-01T00:00:00"
         ],
         "xaxis": "x",
         "y": [
          3645.8,
          1409,
          866.7,
          706,
          443.4,
          381,
          319.2,
          225.5,
          110,
          12.5
         ],
         "yaxis": "y"
        },
        {
         "hovertemplate": "country=Finland<br>Month - Year=%{x}<br>Total Amount In (USD$)=%{marker.size}<extra></extra>",
         "legendgroup": "Finland",
         "marker": {
          "color": "#FF6692",
          "size": [
           3077,
           2890.3,
           2413.9,
           1871.25,
           1470,
           1401,
           1376,
           1132.35,
           1092,
           886,
           642,
           629.5,
           412.35,
           364.8,
           120
          ],
          "sizemode": "area",
          "sizeref": 68.986125,
          "symbol": "circle"
         },
         "mode": "markers",
         "name": "Finland",
         "orientation": "v",
         "showlegend": true,
         "type": "scatter",
         "x": [
          "2013-02-01T00:00:00",
          "2013-05-01T00:00:00",
          "2013-06-01T00:00:00",
          "2013-11-01T00:00:00",
          "2012-10-01T00:00:00",
          "2014-02-01T00:00:00",
          "2012-08-01T00:00:00",
          "2013-12-01T00:00:00",
          "2013-01-01T00:00:00",
          "2014-04-01T00:00:00",
          "2013-10-01T00:00:00",
          "2013-08-01T00:00:00",
          "2013-09-01T00:00:00",
          "2012-07-01T00:00:00",
          "2013-07-01T00:00:00"
         ],
         "xaxis": "x",
         "y": [
          3077,
          2890.3,
          2413.9,
          1871.25,
          1470,
          1401,
          1376,
          1132.35,
          1092,
          886,
          642,
          629.5,
          412.35,
          364.8,
          120
         ],
         "yaxis": "y"
        },
        {
         "hovertemplate": "country=Portugal<br>Month - Year=%{x}<br>Total Amount In (USD$)=%{marker.size}<extra></extra>",
         "legendgroup": "Portugal",
         "marker": {
          "color": "#B6E880",
          "size": [
           2825.3,
           2633.9,
           1836,
           1515.75,
           1484.8,
           851.2,
           843.2,
           256.5,
           154,
           68
          ],
          "sizemode": "area",
          "sizeref": 68.986125,
          "symbol": "circle"
         },
         "mode": "markers",
         "name": "Portugal",
         "orientation": "v",
         "showlegend": true,
         "type": "scatter",
         "x": [
          "2013-03-01T00:00:00",
          "2014-04-01T00:00:00",
          "2013-05-01T00:00:00",
          "2013-09-01T00:00:00",
          "2012-10-01T00:00:00",
          "2013-02-01T00:00:00",
          "2012-12-01T00:00:00",
          "2013-07-01T00:00:00",
          "2012-11-01T00:00:00",
          "2014-03-01T00:00:00"
         ],
         "xaxis": "x",
         "y": [
          2825.3,
          2633.9,
          1836,
          1515.75,
          1484.8,
          851.2,
          843.2,
          256.5,
          154,
          68
         ],
         "yaxis": "y"
        },
        {
         "hovertemplate": "country=Italy<br>Month - Year=%{x}<br>Total Amount In (USD$)=%{marker.size}<extra></extra>",
         "legendgroup": "Italy",
         "marker": {
          "color": "#FF97FF",
          "size": [
           2685,
           2449,
           1916.8,
           1853.2,
           1668.4,
           1420,
           1380.25,
           698,
           608,
           543,
           537.6,
           396.2,
           235.2,
           193,
           93.5,
           28
          ],
          "sizemode": "area",
          "sizeref": 68.986125,
          "symbol": "circle"
         },
         "mode": "markers",
         "name": "Italy",
         "orientation": "v",
         "showlegend": true,
         "type": "scatter",
         "x": [
          "2014-01-01T00:00:00",
          "2014-04-01T00:00:00",
          "2013-01-01T00:00:00",
          "2013-11-01T00:00:00",
          "2013-12-01T00:00:00",
          "2014-03-01T00:00:00",
          "2013-08-01T00:00:00",
          "2014-02-01T00:00:00",
          "2012-09-01T00:00:00",
          "2013-06-01T00:00:00",
          "2013-02-01T00:00:00",
          "2012-08-01T00:00:00",
          "2013-03-01T00:00:00",
          "2013-09-01T00:00:00",
          "2013-10-01T00:00:00",
          "2013-07-01T00:00:00"
         ],
         "xaxis": "x",
         "y": [
          2685,
          2449,
          1916.8,
          1853.2,
          1668.4,
          1420,
          1380.25,
          698,
          608,
          543,
          537.6,
          396.2,
          235.2,
          193,
          93.5,
          28
         ],
         "yaxis": "y"
        },
        {
         "hovertemplate": "country=Norway<br>Month - Year=%{x}<br>Total Amount In (USD$)=%{marker.size}<extra></extra>",
         "legendgroup": "Norway",
         "marker": {
          "color": "#FECB52",
          "size": [
           2684.4,
           1058.4,
           670,
           622.35,
           500,
           200
          ],
          "sizemode": "area",
          "sizeref": 68.986125,
          "symbol": "circle"
         },
         "mode": "markers",
         "name": "Norway",
         "orientation": "v",
         "showlegend": true,
         "type": "scatter",
         "x": [
          "2014-01-01T00:00:00",
          "2012-12-01T00:00:00",
          "2014-02-01T00:00:00",
          "2014-04-01T00:00:00",
          "2013-08-01T00:00:00",
          "2013-04-01T00:00:00"
         ],
         "xaxis": "x",
         "y": [
          2684.4,
          1058.4,
          670,
          622.35,
          500,
          200
         ],
         "yaxis": "y"
        },
        {
         "hovertemplate": "country=Poland<br>Month - Year=%{x}<br>Total Amount In (USD$)=%{marker.size}<extra></extra>",
         "legendgroup": "Poland",
         "marker": {
          "color": "#636efa",
          "size": [
           1277.6,
           808,
           587.5,
           459,
           399.85
          ],
          "sizemode": "area",
          "sizeref": 68.986125,
          "symbol": "circle"
         },
         "mode": "markers",
         "name": "Poland",
         "orientation": "v",
         "showlegend": true,
         "type": "scatter",
         "x": [
          "2014-04-01T00:00:00",
          "2013-07-01T00:00:00",
          "2014-02-01T00:00:00",
          "2012-12-01T00:00:00",
          "2013-12-01T00:00:00"
         ],
         "xaxis": "x",
         "y": [
          1277.6,
          808,
          587.5,
          459,
          399.85
         ],
         "yaxis": "y"
        }
       ],
       "layout": {
        "legend": {
         "itemsizing": "constant",
         "title": {
          "text": "country"
         },
         "tracegroupgap": 0
        },
        "template": {
         "data": {
          "bar": [
           {
            "error_x": {
             "color": "#2a3f5f"
            },
            "error_y": {
             "color": "#2a3f5f"
            },
            "marker": {
             "line": {
              "color": "#E5ECF6",
              "width": 0.5
             },
             "pattern": {
              "fillmode": "overlay",
              "size": 10,
              "solidity": 0.2
             }
            },
            "type": "bar"
           }
          ],
          "barpolar": [
           {
            "marker": {
             "line": {
              "color": "#E5ECF6",
              "width": 0.5
             },
             "pattern": {
              "fillmode": "overlay",
              "size": 10,
              "solidity": 0.2
             }
            },
            "type": "barpolar"
           }
          ],
          "carpet": [
           {
            "aaxis": {
             "endlinecolor": "#2a3f5f",
             "gridcolor": "white",
             "linecolor": "white",
             "minorgridcolor": "white",
             "startlinecolor": "#2a3f5f"
            },
            "baxis": {
             "endlinecolor": "#2a3f5f",
             "gridcolor": "white",
             "linecolor": "white",
             "minorgridcolor": "white",
             "startlinecolor": "#2a3f5f"
            },
            "type": "carpet"
           }
          ],
          "choropleth": [
           {
            "colorbar": {
             "outlinewidth": 0,
             "ticks": ""
            },
            "type": "choropleth"
           }
          ],
          "contour": [
           {
            "colorbar": {
             "outlinewidth": 0,
             "ticks": ""
            },
            "colorscale": [
             [
              0,
              "#0d0887"
             ],
             [
              0.1111111111111111,
              "#46039f"
             ],
             [
              0.2222222222222222,
              "#7201a8"
             ],
             [
              0.3333333333333333,
              "#9c179e"
             ],
             [
              0.4444444444444444,
              "#bd3786"
             ],
             [
              0.5555555555555556,
              "#d8576b"
             ],
             [
              0.6666666666666666,
              "#ed7953"
             ],
             [
              0.7777777777777778,
              "#fb9f3a"
             ],
             [
              0.8888888888888888,
              "#fdca26"
             ],
             [
              1,
              "#f0f921"
             ]
            ],
            "type": "contour"
           }
          ],
          "contourcarpet": [
           {
            "colorbar": {
             "outlinewidth": 0,
             "ticks": ""
            },
            "type": "contourcarpet"
           }
          ],
          "heatmap": [
           {
            "colorbar": {
             "outlinewidth": 0,
             "ticks": ""
            },
            "colorscale": [
             [
              0,
              "#0d0887"
             ],
             [
              0.1111111111111111,
              "#46039f"
             ],
             [
              0.2222222222222222,
              "#7201a8"
             ],
             [
              0.3333333333333333,
              "#9c179e"
             ],
             [
              0.4444444444444444,
              "#bd3786"
             ],
             [
              0.5555555555555556,
              "#d8576b"
             ],
             [
              0.6666666666666666,
              "#ed7953"
             ],
             [
              0.7777777777777778,
              "#fb9f3a"
             ],
             [
              0.8888888888888888,
              "#fdca26"
             ],
             [
              1,
              "#f0f921"
             ]
            ],
            "type": "heatmap"
           }
          ],
          "heatmapgl": [
           {
            "colorbar": {
             "outlinewidth": 0,
             "ticks": ""
            },
            "colorscale": [
             [
              0,
              "#0d0887"
             ],
             [
              0.1111111111111111,
              "#46039f"
             ],
             [
              0.2222222222222222,
              "#7201a8"
             ],
             [
              0.3333333333333333,
              "#9c179e"
             ],
             [
              0.4444444444444444,
              "#bd3786"
             ],
             [
              0.5555555555555556,
              "#d8576b"
             ],
             [
              0.6666666666666666,
              "#ed7953"
             ],
             [
              0.7777777777777778,
              "#fb9f3a"
             ],
             [
              0.8888888888888888,
              "#fdca26"
             ],
             [
              1,
              "#f0f921"
             ]
            ],
            "type": "heatmapgl"
           }
          ],
          "histogram": [
           {
            "marker": {
             "pattern": {
              "fillmode": "overlay",
              "size": 10,
              "solidity": 0.2
             }
            },
            "type": "histogram"
           }
          ],
          "histogram2d": [
           {
            "colorbar": {
             "outlinewidth": 0,
             "ticks": ""
            },
            "colorscale": [
             [
              0,
              "#0d0887"
             ],
             [
              0.1111111111111111,
              "#46039f"
             ],
             [
              0.2222222222222222,
              "#7201a8"
             ],
             [
              0.3333333333333333,
              "#9c179e"
             ],
             [
              0.4444444444444444,
              "#bd3786"
             ],
             [
              0.5555555555555556,
              "#d8576b"
             ],
             [
              0.6666666666666666,
              "#ed7953"
             ],
             [
              0.7777777777777778,
              "#fb9f3a"
             ],
             [
              0.8888888888888888,
              "#fdca26"
             ],
             [
              1,
              "#f0f921"
             ]
            ],
            "type": "histogram2d"
           }
          ],
          "histogram2dcontour": [
           {
            "colorbar": {
             "outlinewidth": 0,
             "ticks": ""
            },
            "colorscale": [
             [
              0,
              "#0d0887"
             ],
             [
              0.1111111111111111,
              "#46039f"
             ],
             [
              0.2222222222222222,
              "#7201a8"
             ],
             [
              0.3333333333333333,
              "#9c179e"
             ],
             [
              0.4444444444444444,
              "#bd3786"
             ],
             [
              0.5555555555555556,
              "#d8576b"
             ],
             [
              0.6666666666666666,
              "#ed7953"
             ],
             [
              0.7777777777777778,
              "#fb9f3a"
             ],
             [
              0.8888888888888888,
              "#fdca26"
             ],
             [
              1,
              "#f0f921"
             ]
            ],
            "type": "histogram2dcontour"
           }
          ],
          "mesh3d": [
           {
            "colorbar": {
             "outlinewidth": 0,
             "ticks": ""
            },
            "type": "mesh3d"
           }
          ],
          "parcoords": [
           {
            "line": {
             "colorbar": {
              "outlinewidth": 0,
              "ticks": ""
             }
            },
            "type": "parcoords"
           }
          ],
          "pie": [
           {
            "automargin": true,
            "type": "pie"
           }
          ],
          "scatter": [
           {
            "fillpattern": {
             "fillmode": "overlay",
             "size": 10,
             "solidity": 0.2
            },
            "type": "scatter"
           }
          ],
          "scatter3d": [
           {
            "line": {
             "colorbar": {
              "outlinewidth": 0,
              "ticks": ""
             }
            },
            "marker": {
             "colorbar": {
              "outlinewidth": 0,
              "ticks": ""
             }
            },
            "type": "scatter3d"
           }
          ],
          "scattercarpet": [
           {
            "marker": {
             "colorbar": {
              "outlinewidth": 0,
              "ticks": ""
             }
            },
            "type": "scattercarpet"
           }
          ],
          "scattergeo": [
           {
            "marker": {
             "colorbar": {
              "outlinewidth": 0,
              "ticks": ""
             }
            },
            "type": "scattergeo"
           }
          ],
          "scattergl": [
           {
            "marker": {
             "colorbar": {
              "outlinewidth": 0,
              "ticks": ""
             }
            },
            "type": "scattergl"
           }
          ],
          "scattermapbox": [
           {
            "marker": {
             "colorbar": {
              "outlinewidth": 0,
              "ticks": ""
             }
            },
            "type": "scattermapbox"
           }
          ],
          "scatterpolar": [
           {
            "marker": {
             "colorbar": {
              "outlinewidth": 0,
              "ticks": ""
             }
            },
            "type": "scatterpolar"
           }
          ],
          "scatterpolargl": [
           {
            "marker": {
             "colorbar": {
              "outlinewidth": 0,
              "ticks": ""
             }
            },
            "type": "scatterpolargl"
           }
          ],
          "scatterternary": [
           {
            "marker": {
             "colorbar": {
              "outlinewidth": 0,
              "ticks": ""
             }
            },
            "type": "scatterternary"
           }
          ],
          "surface": [
           {
            "colorbar": {
             "outlinewidth": 0,
             "ticks": ""
            },
            "colorscale": [
             [
              0,
              "#0d0887"
             ],
             [
              0.1111111111111111,
              "#46039f"
             ],
             [
              0.2222222222222222,
              "#7201a8"
             ],
             [
              0.3333333333333333,
              "#9c179e"
             ],
             [
              0.4444444444444444,
              "#bd3786"
             ],
             [
              0.5555555555555556,
              "#d8576b"
             ],
             [
              0.6666666666666666,
              "#ed7953"
             ],
             [
              0.7777777777777778,
              "#fb9f3a"
             ],
             [
              0.8888888888888888,
              "#fdca26"
             ],
             [
              1,
              "#f0f921"
             ]
            ],
            "type": "surface"
           }
          ],
          "table": [
           {
            "cells": {
             "fill": {
              "color": "#EBF0F8"
             },
             "line": {
              "color": "white"
             }
            },
            "header": {
             "fill": {
              "color": "#C8D4E3"
             },
             "line": {
              "color": "white"
             }
            },
            "type": "table"
           }
          ]
         },
         "layout": {
          "annotationdefaults": {
           "arrowcolor": "#2a3f5f",
           "arrowhead": 0,
           "arrowwidth": 1
          },
          "autotypenumbers": "strict",
          "coloraxis": {
           "colorbar": {
            "outlinewidth": 0,
            "ticks": ""
           }
          },
          "colorscale": {
           "diverging": [
            [
             0,
             "#8e0152"
            ],
            [
             0.1,
             "#c51b7d"
            ],
            [
             0.2,
             "#de77ae"
            ],
            [
             0.3,
             "#f1b6da"
            ],
            [
             0.4,
             "#fde0ef"
            ],
            [
             0.5,
             "#f7f7f7"
            ],
            [
             0.6,
             "#e6f5d0"
            ],
            [
             0.7,
             "#b8e186"
            ],
            [
             0.8,
             "#7fbc41"
            ],
            [
             0.9,
             "#4d9221"
            ],
            [
             1,
             "#276419"
            ]
           ],
           "sequential": [
            [
             0,
             "#0d0887"
            ],
            [
             0.1111111111111111,
             "#46039f"
            ],
            [
             0.2222222222222222,
             "#7201a8"
            ],
            [
             0.3333333333333333,
             "#9c179e"
            ],
            [
             0.4444444444444444,
             "#bd3786"
            ],
            [
             0.5555555555555556,
             "#d8576b"
            ],
            [
             0.6666666666666666,
             "#ed7953"
            ],
            [
             0.7777777777777778,
             "#fb9f3a"
            ],
            [
             0.8888888888888888,
             "#fdca26"
            ],
            [
             1,
             "#f0f921"
            ]
           ],
           "sequentialminus": [
            [
             0,
             "#0d0887"
            ],
            [
             0.1111111111111111,
             "#46039f"
            ],
            [
             0.2222222222222222,
             "#7201a8"
            ],
            [
             0.3333333333333333,
             "#9c179e"
            ],
            [
             0.4444444444444444,
             "#bd3786"
            ],
            [
             0.5555555555555556,
             "#d8576b"
            ],
            [
             0.6666666666666666,
             "#ed7953"
            ],
            [
             0.7777777777777778,
             "#fb9f3a"
            ],
            [
             0.8888888888888888,
             "#fdca26"
            ],
            [
             1,
             "#f0f921"
            ]
           ]
          },
          "colorway": [
           "#636efa",
           "#EF553B",
           "#00cc96",
           "#ab63fa",
           "#FFA15A",
           "#19d3f3",
           "#FF6692",
           "#B6E880",
           "#FF97FF",
           "#FECB52"
          ],
          "font": {
           "color": "#2a3f5f"
          },
          "geo": {
           "bgcolor": "white",
           "lakecolor": "white",
           "landcolor": "#E5ECF6",
           "showlakes": true,
           "showland": true,
           "subunitcolor": "white"
          },
          "hoverlabel": {
           "align": "left"
          },
          "hovermode": "closest",
          "mapbox": {
           "style": "light"
          },
          "paper_bgcolor": "white",
          "plot_bgcolor": "#E5ECF6",
          "polar": {
           "angularaxis": {
            "gridcolor": "white",
            "linecolor": "white",
            "ticks": ""
           },
           "bgcolor": "#E5ECF6",
           "radialaxis": {
            "gridcolor": "white",
            "linecolor": "white",
            "ticks": ""
           }
          },
          "scene": {
           "xaxis": {
            "backgroundcolor": "#E5ECF6",
            "gridcolor": "white",
            "gridwidth": 2,
            "linecolor": "white",
            "showbackground": true,
            "ticks": "",
            "zerolinecolor": "white"
           },
           "yaxis": {
            "backgroundcolor": "#E5ECF6",
            "gridcolor": "white",
            "gridwidth": 2,
            "linecolor": "white",
            "showbackground": true,
            "ticks": "",
            "zerolinecolor": "white"
           },
           "zaxis": {
            "backgroundcolor": "#E5ECF6",
            "gridcolor": "white",
            "gridwidth": 2,
            "linecolor": "white",
            "showbackground": true,
            "ticks": "",
            "zerolinecolor": "white"
           }
          },
          "shapedefaults": {
           "line": {
            "color": "#2a3f5f"
           }
          },
          "ternary": {
           "aaxis": {
            "gridcolor": "white",
            "linecolor": "white",
            "ticks": ""
           },
           "baxis": {
            "gridcolor": "white",
            "linecolor": "white",
            "ticks": ""
           },
           "bgcolor": "#E5ECF6",
           "caxis": {
            "gridcolor": "white",
            "linecolor": "white",
            "ticks": ""
           }
          },
          "title": {
           "x": 0.05
          },
          "xaxis": {
           "automargin": true,
           "gridcolor": "white",
           "linecolor": "white",
           "ticks": "",
           "title": {
            "standoff": 15
           },
           "zerolinecolor": "white",
           "zerolinewidth": 2
          },
          "yaxis": {
           "automargin": true,
           "gridcolor": "white",
           "linecolor": "white",
           "ticks": "",
           "title": {
            "standoff": 15
           },
           "zerolinecolor": "white",
           "zerolinewidth": 2
          }
         }
        },
        "title": {
         "text": "Total Amount Sum Variation Across Countries from January 2012 to May 2014"
        },
        "xaxis": {
         "anchor": "y",
         "domain": [
          0,
          1
         ],
         "title": {
          "text": "Month - Year"
         }
        },
        "yaxis": {
         "anchor": "x",
         "domain": [
          0,
          1
         ],
         "title": {
          "text": "Total Amount In (USD$)"
         }
        }
       }
      }
     },
     "metadata": {},
     "output_type": "display_data"
    }
   ],
   "source": [
    "px.scatter(data_frame=month_country_group,\n",
    "           x=\"monthyear\",\n",
    "           y=\"total_amount_sum\",\n",
    "           color=\"country\",\n",
    "           size=\"total_amount_sum\",\n",
    "           labels={\n",
    "               \"monthyear\":\"Month - Year\",\n",
    "               \"total_amount_sum\":\"Total Amount In (USD$)\"\n",
    "           },\n",
    "           title=\"Total Amount Sum Variation Across Countries from January 2012 to May 2014\")"
   ]
  },
  {
   "cell_type": "markdown",
   "metadata": {},
   "source": [
    "**Scatter Plot Analysis:**\n",
    "1. The chart illustrates the total amount each country had throughout the period from January 2012 to May 2014.\n",
    "2. Each country has a different color on the plot that distinguishes one country from another.\n",
    "3. The relation of the size of the data points to the overall sum suggests that the largest points are the highest values.\n",
    "4. The scatter plot data points with various grades of the total amount sum show the financial performance discrepancies among the depicted countries.\n",
    "5. The evidence of the total amount sum fluctuation in the period from January 2012 to May 2014 is clearly a sign of perhaps economic patterns or changes in the financial functioning.\n",
    "6. The scattering of the data across the graph denotes potential outliers or countries with particularly high or low total values relative to the others.\n",
    "7. The span of the total amount sum, from 0 to 30k, forms a clear picture of the size of the transactions or balances for the countries being studied."
   ]
  }
 ],
 "metadata": {
  "kernelspec": {
   "display_name": "Python 3",
   "language": "python",
   "name": "python3"
  },
  "language_info": {
   "codemirror_mode": {
    "name": "ipython",
    "version": 3
   },
   "file_extension": ".py",
   "mimetype": "text/x-python",
   "name": "python",
   "nbconvert_exporter": "python",
   "pygments_lexer": "ipython3",
   "version": "3.12.4"
  }
 },
 "nbformat": 4,
 "nbformat_minor": 2
}
